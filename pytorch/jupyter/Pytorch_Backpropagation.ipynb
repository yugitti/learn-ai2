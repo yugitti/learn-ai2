{
 "cells": [
  {
   "cell_type": "code",
   "execution_count": 401,
   "metadata": {},
   "outputs": [],
   "source": [
    "import numpy as np\n",
    "import pandas as pd\n",
    "import matplotlib.pyplot as plt\n",
    "import seaborn as sns\n",
    "import torch\n",
    "from torch.autograd import Variable\n",
    "import torch\n",
    "import torch.nn as nn\n",
    "import torch.optim as optim\n",
    "import torch.nn.functional as F\n",
    "from torchvision import datasets, transforms\n",
    "\n",
    "%matplotlib inline\n",
    "custom_style = {'axes.labelcolor': 'white',\n",
    "                'xtick.color': 'white',\n",
    "                'ytick.color': 'white'}\n",
    "sns.set_style(\"darkgrid\", rc=custom_style)\n",
    "sns.set_context(\"notebook\")\n",
    "plt.style.use('dark_background')\n",
    "plt.rcParams[\"font.size\"] = 18"
   ]
  },
  {
   "cell_type": "code",
   "execution_count": 402,
   "metadata": {},
   "outputs": [],
   "source": [
    "x_data = np.array([5], dtype=np.float32)"
   ]
  },
  {
   "cell_type": "code",
   "execution_count": 403,
   "metadata": {},
   "outputs": [],
   "source": [
    "x = torch.Tensor(x_data)\n",
    "x.requires_grad = True"
   ]
  },
  {
   "cell_type": "code",
   "execution_count": 404,
   "metadata": {},
   "outputs": [],
   "source": [
    "y = x**2 - 2*x + 1"
   ]
  },
  {
   "cell_type": "code",
   "execution_count": 405,
   "metadata": {},
   "outputs": [],
   "source": [
    "y.backward()"
   ]
  },
  {
   "cell_type": "code",
   "execution_count": 406,
   "metadata": {},
   "outputs": [
    {
     "data": {
      "text/plain": [
       "tensor([8.])"
      ]
     },
     "execution_count": 406,
     "metadata": {},
     "output_type": "execute_result"
    }
   ],
   "source": [
    "x.grad"
   ]
  },
  {
   "cell_type": "code",
   "execution_count": 77,
   "metadata": {},
   "outputs": [],
   "source": [
    "x = torch.tensor(5.0, requires_grad=True)\n",
    "z = 2 * x\n",
    "z.retain_grad()\n",
    "y = x**2 - z + 1"
   ]
  },
  {
   "cell_type": "code",
   "execution_count": 78,
   "metadata": {},
   "outputs": [],
   "source": [
    "y.backward()"
   ]
  },
  {
   "cell_type": "code",
   "execution_count": 79,
   "metadata": {},
   "outputs": [
    {
     "data": {
      "text/plain": [
       "tensor(-1.)"
      ]
     },
     "execution_count": 79,
     "metadata": {},
     "output_type": "execute_result"
    }
   ],
   "source": [
    "z.grad"
   ]
  },
  {
   "cell_type": "code",
   "execution_count": 80,
   "metadata": {},
   "outputs": [
    {
     "data": {
      "text/plain": [
       "tensor(8.)"
      ]
     },
     "execution_count": 80,
     "metadata": {},
     "output_type": "execute_result"
    }
   ],
   "source": [
    "x.grad"
   ]
  },
  {
   "cell_type": "code",
   "execution_count": 83,
   "metadata": {},
   "outputs": [],
   "source": [
    "x = torch.tensor(np.array([[1,2,3],[4,5,6]], dtype=np.float32), requires_grad=True)"
   ]
  },
  {
   "cell_type": "code",
   "execution_count": 85,
   "metadata": {},
   "outputs": [],
   "source": [
    "y = x**2 - 2*x + 1"
   ]
  },
  {
   "cell_type": "code",
   "execution_count": 91,
   "metadata": {},
   "outputs": [],
   "source": [
    "y.backward(torch.tensor(np.ones((2,3), dtype=np.float32)))"
   ]
  },
  {
   "cell_type": "code",
   "execution_count": 92,
   "metadata": {},
   "outputs": [
    {
     "data": {
      "text/plain": [
       "tensor([[ 0.,  2.,  4.],\n",
       "        [ 6.,  8., 10.]])"
      ]
     },
     "execution_count": 92,
     "metadata": {},
     "output_type": "execute_result"
    }
   ],
   "source": [
    "x.grad"
   ]
  },
  {
   "cell_type": "code",
   "execution_count": 110,
   "metadata": {},
   "outputs": [],
   "source": [
    "\n",
    "y = x**2 - x + 1"
   ]
  },
  {
   "cell_type": "code",
   "execution_count": 174,
   "metadata": {},
   "outputs": [],
   "source": [
    "lr0 = 0.1\n",
    "lr1 = 0.01\n",
    "lr2 = 0.001\n",
    "lr3 = 0.0001\n",
    "\n",
    "epoch = 1000\n",
    "y_stoch0 = []\n",
    "y_stoch1 = []\n",
    "y_stoch2 = []\n",
    "y_stoch3 = []\n",
    "x = torch.tensor(5.0, requires_grad=True)"
   ]
  },
  {
   "cell_type": "code",
   "execution_count": 175,
   "metadata": {},
   "outputs": [],
   "source": [
    "x = torch.tensor(5.0, requires_grad=True)\n",
    "for e in range(epoch):\n",
    "    y = x**2 - x + 1\n",
    "    y.backward()\n",
    "    with torch.no_grad(): ## dataのみにアクセス\n",
    "        x -= lr0 * x.grad\n",
    "        x.grad.zero_() ## 微分を初期化\n",
    "    y_stoch0.append(y.item())"
   ]
  },
  {
   "cell_type": "code",
   "execution_count": 176,
   "metadata": {},
   "outputs": [],
   "source": [
    "x = torch.tensor(5.0, requires_grad=True)\n",
    "for e in range(epoch):\n",
    "    y = x**2 - x + 1\n",
    "    y.backward()\n",
    "    with torch.no_grad(): ## dataのみにアクセス\n",
    "        x -= lr1 * x.grad\n",
    "        x.grad.zero_() ## 微分を初期化\n",
    "    y_stoch1.append(y.item())"
   ]
  },
  {
   "cell_type": "code",
   "execution_count": 177,
   "metadata": {},
   "outputs": [],
   "source": [
    "x = torch.tensor(5.0, requires_grad=True)\n",
    "for e in range(epoch):\n",
    "    y = x**2 - x + 1\n",
    "    y.backward()\n",
    "    with torch.no_grad(): ## dataのみにアクセス\n",
    "        x -= lr2 * x.grad\n",
    "        x.grad.zero_() ## 微分を初期化\n",
    "    y_stoch2.append(y.item())"
   ]
  },
  {
   "cell_type": "code",
   "execution_count": 178,
   "metadata": {},
   "outputs": [],
   "source": [
    "x = torch.tensor(5.0, requires_grad=True)\n",
    "for e in range(epoch):\n",
    "    y = x**2 - x + 1\n",
    "    y.backward()\n",
    "    with torch.no_grad(): ## dataのみにアクセス\n",
    "        x -= lr3 * x.grad\n",
    "        x.grad.zero_() ## 微分を初期化\n",
    "    y_stoch3.append(y.item())"
   ]
  },
  {
   "cell_type": "code",
   "execution_count": 179,
   "metadata": {},
   "outputs": [
    {
     "name": "stdout",
     "output_type": "stream",
     "text": [
      "y_min: 1.120890736579895\n",
      "x_min: 4.1842145919799805\n"
     ]
    }
   ],
   "source": [
    "print('y_min: {}'.format(y_stoch[-1]))\n",
    "print('x_min: {}'.format(x))"
   ]
  },
  {
   "cell_type": "code",
   "execution_count": 180,
   "metadata": {},
   "outputs": [
    {
     "data": {
      "text/plain": [
       "<matplotlib.legend.Legend at 0x2b902d4a8eb8>"
      ]
     },
     "execution_count": 180,
     "metadata": {},
     "output_type": "execute_result"
    },
    {
     "data": {
      "image/png": "[encoded data removed]",
      "text/plain": [
       "<matplotlib.figure.Figure at 0x2b902d413a20>"
      ]
     },
     "metadata": {},
     "output_type": "display_data"
    }
   ],
   "source": [
    "plt.figure(figsize=(10,5))\n",
    "xx =np.arange(epoch)\n",
    "plt.plot(xx, y_stoch0, label = 'lr = 0.1', color='yellowgreen')\n",
    "plt.plot(xx, y_stoch1, label = 'lr = 0.01', color='deepskyblue')\n",
    "plt.plot(xx, y_stoch2, label = 'lr = 0.001', color='red')\n",
    "plt.plot(xx, y_stoch3, label = 'lr = 0.0001', color='blue')\n",
    "plt.legend()"
   ]
  },
  {
   "cell_type": "markdown",
   "metadata": {},
   "source": [
    "## 計算グラフの確認\n",
    "$ f(x,y,z) = (x+y)z$  \n",
    "$q = x+y$  \n",
    "$f = qz$  \n",
    "$x = -2, y = 5, z = -4$"
   ]
  },
  {
   "cell_type": "code",
   "execution_count": 183,
   "metadata": {},
   "outputs": [],
   "source": [
    "x = torch.tensor([-2.0], requires_grad=True)\n",
    "y = torch.tensor([5.0], requires_grad=True)\n",
    "z = torch.tensor([-4.0], requires_grad=True)"
   ]
  },
  {
   "cell_type": "code",
   "execution_count": 184,
   "metadata": {},
   "outputs": [],
   "source": [
    "q = x + y\n",
    "q.retain_grad()\n",
    "f = q * z"
   ]
  },
  {
   "cell_type": "code",
   "execution_count": 185,
   "metadata": {},
   "outputs": [],
   "source": [
    "f.backward()"
   ]
  },
  {
   "cell_type": "code",
   "execution_count": 189,
   "metadata": {},
   "outputs": [
    {
     "name": "stdout",
     "output_type": "stream",
     "text": [
      "q:-4.0, x:-4.0, y:-4.0, z:3.0\n"
     ]
    }
   ],
   "source": [
    "print('q:{0}, x:{1}, y:{2}, z:{3}'.format(q.grad[0], x.grad[0], y.grad[0], z.grad[0]))"
   ]
  },
  {
   "cell_type": "markdown",
   "metadata": {},
   "source": [
    "演習2.1"
   ]
  },
  {
   "cell_type": "code",
   "execution_count": 200,
   "metadata": {},
   "outputs": [],
   "source": [
    "w = np.array([2, -3, -3], dtype=np.float32)\n",
    "x = np.array([-1, -2, 1], dtype=np.float32)\n",
    "w = torch.tensor(w, requires_grad=True)\n",
    "x = torch.tensor(x, requires_grad=True)"
   ]
  },
  {
   "cell_type": "code",
   "execution_count": 201,
   "metadata": {},
   "outputs": [],
   "source": [
    "z = torch.dot(w, x)"
   ]
  },
  {
   "cell_type": "code",
   "execution_count": 202,
   "metadata": {},
   "outputs": [],
   "source": [
    "f = 1 / (1 + torch.exp(-z))"
   ]
  },
  {
   "cell_type": "code",
   "execution_count": 203,
   "metadata": {},
   "outputs": [],
   "source": [
    "f.backward()"
   ]
  },
  {
   "cell_type": "code",
   "execution_count": 217,
   "metadata": {},
   "outputs": [
    {
     "name": "stdout",
     "output_type": "stream",
     "text": [
      "w0:-0.20, w1:-0.39, w2:0.20\n",
      "x0:0.39, x1:-0.59\n"
     ]
    }
   ],
   "source": [
    "print('w0:{0:.2f}, w1:{1:.2f}, w2:{2:.2f}'.format(w.grad[0], w.grad[1], w.grad[2]))\n",
    "print('x0:{0:.2f}, x1:{1:.2f}'.format(x.grad[0], x.grad[1]))"
   ]
  },
  {
   "cell_type": "markdown",
   "metadata": {},
   "source": [
    "演習2.2"
   ]
  },
  {
   "cell_type": "code",
   "execution_count": 243,
   "metadata": {},
   "outputs": [],
   "source": [
    "z = []\n",
    "W = np.array([[1,2,3],[4,5,6]],dtype=np.float32)\n",
    "WW = torch.tensor(W, requires_grad=True)\n",
    "x = np.array([10,20,30],dtype=np.float32).reshape(3,1)\n",
    "xx = torch.tensor(x, requires_grad=True)"
   ]
  },
  {
   "cell_type": "code",
   "execution_count": 248,
   "metadata": {},
   "outputs": [
    {
     "name": "stdout",
     "output_type": "stream",
     "text": [
      "torch.Size([2, 3])\n",
      "torch.Size([3, 1])\n"
     ]
    }
   ],
   "source": [
    "print(WW.size())\n",
    "print(xx.size())"
   ]
  },
  {
   "cell_type": "markdown",
   "metadata": {},
   "source": [
    "z = Wx"
   ]
  },
  {
   "cell_type": "code",
   "execution_count": 253,
   "metadata": {},
   "outputs": [],
   "source": [
    "z = torch.mm(WW, xx)"
   ]
  },
  {
   "cell_type": "code",
   "execution_count": 254,
   "metadata": {},
   "outputs": [],
   "source": [
    "squared_sum = torch.sum(z**2)"
   ]
  },
  {
   "cell_type": "code",
   "execution_count": 255,
   "metadata": {},
   "outputs": [],
   "source": [
    "squared_sum.backward()"
   ]
  },
  {
   "cell_type": "code",
   "execution_count": 256,
   "metadata": {},
   "outputs": [
    {
     "data": {
      "text/plain": [
       "tensor([[ 2800.,  5600.,  8400.],\n",
       "        [ 6400., 12800., 19200.]])"
      ]
     },
     "execution_count": 256,
     "metadata": {},
     "output_type": "execute_result"
    }
   ],
   "source": [
    "WW.grad"
   ]
  },
  {
   "cell_type": "code",
   "execution_count": 322,
   "metadata": {},
   "outputs": [],
   "source": [
    "x = np.array([[0.05, 0.10]], np.float32)\n",
    "w1 = np.array([[0.15, 0.20], [0.25, 0.30]], np.float32)\n",
    "b1 = np.array([0.35, 0.35], np.float32)\n",
    "x = torch.tensor(x, requires_grad=True)\n",
    "W_1 = torch.tensor(w1, requires_grad=True)\n",
    "b_1 = torch.tensor(b1, requires_grad=True)"
   ]
  },
  {
   "cell_type": "code",
   "execution_count": 267,
   "metadata": {},
   "outputs": [],
   "source": [
    "L1 = F.linear(x, W_1, b_1)\n",
    "h1 = torch.sigmoid(L1)"
   ]
  },
  {
   "cell_type": "code",
   "execution_count": 270,
   "metadata": {},
   "outputs": [
    {
     "name": "stdout",
     "output_type": "stream",
     "text": [
      "tensor([0.3775, 0.3925])\n",
      "tensor([0.5933, 0.5969])\n"
     ]
    }
   ],
   "source": [
    "print(L1.data[0])\n",
    "print(h1.data[0])"
   ]
  },
  {
   "cell_type": "code",
   "execution_count": 323,
   "metadata": {},
   "outputs": [],
   "source": [
    "w2 = np.array([[0.40, 0.45], [0.50, 0.55]], np.float32)\n",
    "b2 = np.array([0.6, 0.6], np.float32)\n",
    "W_2 = torch.tensor(w2, requires_grad=True)\n",
    "b_2 = torch.tensor(b2, requires_grad=True)"
   ]
  },
  {
   "cell_type": "code",
   "execution_count": 273,
   "metadata": {},
   "outputs": [],
   "source": [
    "L2 = F.linear(h1, W_2, b_2)\n",
    "y = torch.sigmoid(L2)"
   ]
  },
  {
   "cell_type": "code",
   "execution_count": 274,
   "metadata": {},
   "outputs": [
    {
     "name": "stdout",
     "output_type": "stream",
     "text": [
      "tensor([1.1059, 1.2249])\n",
      "tensor([0.7514, 0.7729])\n"
     ]
    }
   ],
   "source": [
    "print(L2.data[0])\n",
    "print(y.data[0])"
   ]
  },
  {
   "cell_type": "code",
   "execution_count": 277,
   "metadata": {},
   "outputs": [],
   "source": [
    "\n",
    "error_vec = (y - target_y)**2\n",
    "loss = 1/2 * torch.sum(error_vec)"
   ]
  },
  {
   "cell_type": "code",
   "execution_count": 286,
   "metadata": {},
   "outputs": [
    {
     "data": {
      "text/plain": [
       "tensor(0.2044, grad_fn=<MulBackward>)"
      ]
     },
     "execution_count": 286,
     "metadata": {},
     "output_type": "execute_result"
    }
   ],
   "source": [
    "loss"
   ]
  },
  {
   "cell_type": "code",
   "execution_count": 343,
   "metadata": {},
   "outputs": [],
   "source": [
    "x = np.array([[0.05, 0.10]], np.float32)\n",
    "w1 = np.array([[0.15, 0.20], [0.25, 0.30]], np.float32)\n",
    "b1 = np.array([0.35, 0.35], np.float32)\n",
    "x = torch.tensor(x, requires_grad=True)\n",
    "W_1 = torch.tensor(w1, requires_grad=True)\n",
    "b_1 = torch.tensor(b1, requires_grad=True)\n",
    "\n",
    "w2 = np.array([[0.40, 0.45], [0.50, 0.55]], np.float32)\n",
    "b2 = np.array([0.6, 0.6], np.float32)\n",
    "W_2 = torch.tensor(w2, requires_grad=True)\n",
    "b_2 = torch.tensor(b2, requires_grad=True)"
   ]
  },
  {
   "cell_type": "code",
   "execution_count": 344,
   "metadata": {},
   "outputs": [],
   "source": [
    "lr = 0.01\n",
    "epoch = 1000\n",
    "target_y = torch.tensor(np.array([[0.15, 0.99]], np.float32))"
   ]
  },
  {
   "cell_type": "code",
   "execution_count": 345,
   "metadata": {},
   "outputs": [],
   "source": [
    "for e in range(epoch):\n",
    "\n",
    "    L1 = F.linear(x, W_1, b_1)\n",
    "    h1 = torch.sigmoid(L1)\n",
    "    L2 = F.linear(h1, W_2, b_2)\n",
    "    y = torch.sigmoid(L2)\n",
    "\n",
    "    error_vec = (y - target_y)**2\n",
    "    loss = 1/2 * torch.sum(error_vec)\n",
    "    loss.backward()\n",
    "    with torch.no_grad(): ## dataのみにアクセス\n",
    "        W_1 -= lr*W_1.grad\n",
    "        b_1 -= lr*b_1.grad\n",
    "\n",
    "        W_2 -= lr*W_1.grad\n",
    "        b_2 -= lr*b_1.grad\n",
    "        \n",
    "        W_1.grad.zero_()\n",
    "        b_1.grad.zero_()\n",
    "        W_2.grad.zero_()\n",
    "        b_2.grad.zero_()"
   ]
  },
  {
   "cell_type": "code",
   "execution_count": 346,
   "metadata": {},
   "outputs": [
    {
     "name": "stdout",
     "output_type": "stream",
     "text": [
      "loss: 0.1991404891014099: \n",
      "y[0]: 0.7363077402114868, y[1]: 0.7564958930015564: \n"
     ]
    }
   ],
   "source": [
    "print('loss: {}: '.format(loss))\n",
    "print('y[0]: {}, y[1]: {}: '.format(y[0][0], y[0][1]))"
   ]
  },
  {
   "cell_type": "markdown",
   "metadata": {},
   "source": [
    "## Classを作ってネットワークを作成"
   ]
  },
  {
   "cell_type": "code",
   "execution_count": 407,
   "metadata": {},
   "outputs": [],
   "source": [
    "class Net(nn.Module):\n",
    "    \n",
    "    def __init__(self):\n",
    "        super(Net, self).__init__()\n",
    "        self.fc1 = nn.Linear(2, 2)\n",
    "        self.fc2 = nn.Linear(2, 2)\n",
    "        \n",
    "    def forward(self, x):\n",
    "        h = self.fc1(x)\n",
    "        h = torch.sigmoid(h)\n",
    "        h = self.fc2(h)\n",
    "        h = torch.sigmoid(h)\n",
    "        \n",
    "        return h"
   ]
  },
  {
   "cell_type": "code",
   "execution_count": 408,
   "metadata": {},
   "outputs": [],
   "source": [
    "device = torch.device('cuda:6')"
   ]
  },
  {
   "cell_type": "code",
   "execution_count": 448,
   "metadata": {},
   "outputs": [],
   "source": [
    "x = np.array([[0.05, 0.10]], np.float32)\n",
    "t = np.array([[0.15, 0.99]], np.float32)\n",
    "x = torch.tensor(x).to(device)\n",
    "t = torch.tensor(t).to(device)\n",
    "lr = 0.05\n",
    "epoch = 10000"
   ]
  },
  {
   "cell_type": "code",
   "execution_count": 449,
   "metadata": {},
   "outputs": [],
   "source": [
    "net = Net().to(device)\n",
    "# optimizer = optim.SGD(net.parameters(), lr=lr)\n",
    "optimizer = optim.Adam(net.parameters())\n",
    "criterion = nn.MSELoss()"
   ]
  },
  {
   "cell_type": "code",
   "execution_count": 450,
   "metadata": {},
   "outputs": [],
   "source": [
    "output = 0\n",
    "loss = 0\n",
    "for epoch in range(epoch):\n",
    "    optimizer.zero_grad()\n",
    "    output = net(x)\n",
    "    loss = criterion(output, t)\n",
    "    loss.backward()\n",
    "    optimizer.step()"
   ]
  },
  {
   "cell_type": "code",
   "execution_count": 451,
   "metadata": {},
   "outputs": [
    {
     "data": {
      "text/plain": [
       "tensor(1.4443e-07, device='cuda:6', grad_fn=<MseLossBackward>)"
      ]
     },
     "execution_count": 451,
     "metadata": {},
     "output_type": "execute_result"
    }
   ],
   "source": [
    "loss"
   ]
  },
  {
   "cell_type": "code",
   "execution_count": 452,
   "metadata": {},
   "outputs": [
    {
     "data": {
      "text/plain": [
       "tensor([[0.1500, 0.9895]], device='cuda:6', grad_fn=<SigmoidBackward>)"
      ]
     },
     "execution_count": 452,
     "metadata": {},
     "output_type": "execute_result"
    }
   ],
   "source": [
    "output"
   ]
  },
  {
   "cell_type": "code",
   "execution_count": null,
   "metadata": {},
   "outputs": [],
   "source": []
  }
 ],
 "metadata": {
  "kernelspec": {
   "display_name": "Python 3",
   "language": "python",
   "name": "python3"
  },
  "language_info": {
   "codemirror_mode": {
    "name": "ipython",
    "version": 3
   },
   "file_extension": ".py",
   "mimetype": "text/x-python",
   "name": "python",
   "nbconvert_exporter": "python",
   "pygments_lexer": "ipython3",
   "version": "3.5.2"
  }
 },
 "nbformat": 4,
 "nbformat_minor": 2
}
