{
 "cells": [
  {
   "cell_type": "code",
   "execution_count": 1,
   "metadata": {},
   "outputs": [],
   "source": [
    "import torch\n",
    "import torch.nn as nn\n",
    "import torch.optim as optim\n",
    "from torch.utils.data import DataLoader\n",
    "from torchvision import datasets, transforms\n",
    "from torchvision.models import vgg16, vgg16_bn\n",
    "from torch.utils.data import Dataset\n",
    "import numpy as np\n",
    "from PIL import Image, ImageDraw\n",
    "import matplotlib.pyplot as plt\n",
    "import seaborn as sns\n",
    "import math\n",
    "import pandas as pd\n",
    "import sys\n",
    "import os\n",
    "from skimage import io\n",
    "\n",
    "custom_style = {'axes.labelcolor': 'white'}\n",
    "sns.set_style(\"dark\", rc=custom_style)\n",
    "sns.set_context(\"notebook\")\n",
    "plt.style.use('dark_background')\n",
    "plt.rcParams[\"font.size\"] = 18\n",
    "%matplotlib inline"
   ]
  },
  {
   "cell_type": "code",
   "execution_count": 2,
   "metadata": {},
   "outputs": [],
   "source": [
    "data_dir = '../data/'\n",
    "batch_size = 100"
   ]
  },
  {
   "cell_type": "code",
   "execution_count": 3,
   "metadata": {},
   "outputs": [],
   "source": [
    "mnist_LABEL_NAMES = (\n",
    "'airplane',\n",
    "'automobile',\n",
    "'bird',\n",
    "'cat',\n",
    "'deer',\n",
    "'dog',\n",
    "'frog',\n",
    "'horse',\n",
    "'ship',\n",
    "'truck')"
   ]
  },
  {
   "cell_type": "markdown",
   "metadata": {},
   "source": [
    "## Cifar10の画像のcsvを作る"
   ]
  },
  {
   "cell_type": "code",
   "execution_count": 4,
   "metadata": {},
   "outputs": [],
   "source": [
    "import glob\n",
    "import os\n",
    "import pandas as pd"
   ]
  },
  {
   "cell_type": "code",
   "execution_count": 5,
   "metadata": {},
   "outputs": [],
   "source": [
    "train_img = glob.glob('../data/cifar10_pictures/train/*')\n",
    "test_img = glob.glob('../data/cifar10_pictures/test/*')"
   ]
  },
  {
   "cell_type": "code",
   "execution_count": 6,
   "metadata": {},
   "outputs": [],
   "source": [
    "def find_all_files(directory):\n",
    "    for root, dirs, files in os.walk(directory):\n",
    "        for file in files:\n",
    "            if 'png' in file:\n",
    "                yield os.path.join(root, file)"
   ]
  },
  {
   "cell_type": "code",
   "execution_count": 7,
   "metadata": {},
   "outputs": [],
   "source": [
    "train_img = list(find_all_files('../data/mnist/train/'))\n",
    "test_img = list(find_all_files('../data/mnist/test/'))"
   ]
  },
  {
   "cell_type": "code",
   "execution_count": 8,
   "metadata": {},
   "outputs": [],
   "source": [
    "train_label = [os.path.basename(f).split('_')[0] for f in train_img]\n",
    "test_label = [os.path.basename(f).split('_')[0] for f in test_img]"
   ]
  },
  {
   "cell_type": "code",
   "execution_count": 9,
   "metadata": {},
   "outputs": [],
   "source": [
    "df_train = pd.DataFrame()\n",
    "df_train['img'] = [os.path.join(i.split('/')[-2],i.split('/')[-1]) for i in train_img]\n",
    "df_train['label'] = train_label\n",
    "# df_train['label_index'] = df_train['label'].map(lambda x: CIFAR10_LABEL_NAMES.index(x))\n",
    "df_test = pd.DataFrame()\n",
    "df_test['img'] = [os.path.join(i.split('/')[-2],i.split('/')[-1]) for i in test_img]\n",
    "df_test['label'] = test_label\n",
    "# df_test['label_index'] = df_test['label'].map(lambda x: CIFAR10_LABEL_NAMES.index(x))"
   ]
  },
  {
   "cell_type": "code",
   "execution_count": 10,
   "metadata": {},
   "outputs": [],
   "source": [
    "train_num = 10\n",
    "test_num = 100\n",
    "seed = 1\n",
    "df_train_pick = pd.DataFrame()\n",
    "df_test_pick = pd.DataFrame()\n",
    "\n",
    "df_train_pick = df_train_pick.append(df_train.sample(n=100, random_state=seed))\n",
    "df_test_pick = df_test_pick.append(df_test.sample(n=1000, random_state=seed))\n",
    "\n",
    "# for label in range(10):\n",
    "#     df_train_pick = df_train_pick.append(df_train[df_train.label == str(label)].sample(n=train_num, random_state=seed))\n",
    "#     df_test_pick = df_test_pick.append(df_test[df_test.label == str(label)].sample(n=test_num, random_state=seed))\n",
    "        "
   ]
  },
  {
   "cell_type": "code",
   "execution_count": 11,
   "metadata": {},
   "outputs": [],
   "source": [
    "df_train_unlabel = df_train.drop(df_train_pick.index)"
   ]
  },
  {
   "cell_type": "code",
   "execution_count": 12,
   "metadata": {},
   "outputs": [],
   "source": [
    "df_train_pick = df_train_pick.sample(frac=1).reset_index(drop=True)\n",
    "df_test_pick = df_test_pick.sample(frac=1).reset_index(drop=True)\n",
    "df_train_unlabel = df_train_unlabel.sample(frac=1).reset_index(drop=True)"
   ]
  },
  {
   "cell_type": "code",
   "execution_count": 26,
   "metadata": {},
   "outputs": [],
   "source": [
    "df_train_label = df_train_pick"
   ]
  },
  {
   "cell_type": "code",
   "execution_count": 27,
   "metadata": {},
   "outputs": [],
   "source": [
    "df_train_pick.to_csv('../data/mnist//train_small.csv', index=None)\n",
    "df_test_pick.to_csv('../data/mnist/test_small.csv', index=None)\n",
    "df_train.to_csv('../data/mnist/train_big.csv', index=None)\n",
    "df_test.to_csv('../data/mnist/test_big.csv', index=None)\n",
    "df_train_label.to_csv('../data/mnist/train_label.csv', index=None)\n",
    "df_train_unlabel.to_csv('../data/mnist/train_unlabel.csv', index=None)"
   ]
  },
  {
   "cell_type": "markdown",
   "metadata": {},
   "source": [
    "## 専用のデータ・セット作成"
   ]
  },
  {
   "cell_type": "code",
   "execution_count": 15,
   "metadata": {},
   "outputs": [],
   "source": [
    "class MNISTDataSet(Dataset):\n",
    "    \"\"\"Face Landmarks dataset.\"\"\"\n",
    "\n",
    "    def __init__(self, csv_file, root_dir, transform=None):\n",
    "\n",
    "        self.image_dataframe = pd.read_csv(csv_file)\n",
    "        self.root_dir = root_dir\n",
    "        self.transform = transform\n",
    "\n",
    "    def __len__(self):\n",
    "        return len(self.image_dataframe)\n",
    "\n",
    "    def __getitem__(self, idx):\n",
    "        img_name = os.path.join(self.root_dir,\n",
    "                                self.image_dataframe.loc[idx, 'img'])\n",
    "#         image = io.imread(img_name)\n",
    "        image = Image.open(img_name)\n",
    "        label = self.image_dataframe.loc[idx, 'label']\n",
    "\n",
    "        if self.transform:\n",
    "            image = self.transform(image)\n",
    "\n",
    "        return image, label\n"
   ]
  },
  {
   "cell_type": "code",
   "execution_count": 16,
   "metadata": {},
   "outputs": [],
   "source": [
    "csv_file = '../data/mnist/train_label.csv'\n",
    "root_train = '../data/mnist/train/'\n",
    "root_test = '../data/mnist/test/'"
   ]
  },
  {
   "cell_type": "code",
   "execution_count": 17,
   "metadata": {},
   "outputs": [],
   "source": [
    "df = pd.read_csv(csv_file)\n",
    "im_name = os.path.join(root_train, df.loc[0, 'img'])\n",
    "im = io.imread(im_name)"
   ]
  },
  {
   "cell_type": "code",
   "execution_count": 18,
   "metadata": {},
   "outputs": [],
   "source": [
    "## データの水増しと正規化\n",
    "transform = transforms.Compose([\n",
    "    transforms.RandomRotation(20),\n",
    "    transforms.RandomAffine(degrees=0, translate=(0.2, 0.2)),\n",
    "    transforms.RandomHorizontalFlip(),\n",
    "    transforms.ToTensor(),\n",
    "    transforms.Normalize(mean=[0.5, 0.5, 0.5],\n",
    "                        std=[0.5, 0.5, 0.5])\n",
    "])\n",
    "\n",
    "dataset = MNISTDataSet(csv_file, root_train, transform)\n",
    "trainloader = torch.utils.data.DataLoader(\n",
    "    dataset, batch_size=batch_size, shuffle=True\n",
    ")"
   ]
  },
  {
   "cell_type": "code",
   "execution_count": 34,
   "metadata": {},
   "outputs": [
    {
     "data": {
      "text/plain": [
       "100"
      ]
     },
     "execution_count": 34,
     "metadata": {},
     "output_type": "execute_result"
    }
   ],
   "source": [
    "len(dataset)"
   ]
  },
  {
   "cell_type": "code",
   "execution_count": 32,
   "metadata": {},
   "outputs": [],
   "source": [
    "idx = 3\n",
    "loader = iter(trainloader)\n",
    "d = next(loader)"
   ]
  },
  {
   "cell_type": "code",
   "execution_count": 33,
   "metadata": {},
   "outputs": [],
   "source": [
    "def unnorm(tensor):\n",
    "    mean=np.array([0.5, 0.5, 0.5])\n",
    "    std=np.array([0.5, 0.5, 0.5])\n",
    "    for t, m, s in zip(tensor, mean, std):\n",
    "        t.mul_(s).add_(m)\n",
    "    return tensor"
   ]
  },
  {
   "cell_type": "code",
   "execution_count": 19,
   "metadata": {},
   "outputs": [
    {
     "data": {
      "image/png": "[encoded data removed]",
      "text/plain": [
       "<matplotlib.figure.Figure at 0x2b92345b2a20>"
      ]
     },
     "metadata": {},
     "output_type": "display_data"
    }
   ],
   "source": [
    "fig, axs = plt.subplots(5, 8, figsize=(25, 15))\n",
    "for i in range(5):\n",
    "    for j in range(8):\n",
    "        idx = 8*i + j\n",
    "        img = d[0][idx]\n",
    "        label = d[1][idx]\n",
    "        img = unnorm(img)\n",
    "        img_numpy = img.numpy().transpose(1,2,0)\n",
    "        plt.gray()\n",
    "        axs[i,j].imshow(img_numpy[:,:,0])\n",
    "        axs[i,j].set_title('{}'.format(label))\n",
    "        axs[i,j].set_xticklabels([]) \n",
    "        axs[i,j].set_yticklabels([]) \n",
    "                "
   ]
  },
  {
   "cell_type": "code",
   "execution_count": null,
   "metadata": {},
   "outputs": [],
   "source": []
  }
 ],
 "metadata": {
  "kernelspec": {
   "display_name": "Python 3",
   "language": "python",
   "name": "python3"
  },
  "language_info": {
   "codemirror_mode": {
    "name": "ipython",
    "version": 3
   },
   "file_extension": ".py",
   "mimetype": "text/x-python",
   "name": "python",
   "nbconvert_exporter": "python",
   "pygments_lexer": "ipython3",
   "version": "3.5.2"
  }
 },
 "nbformat": 4,
 "nbformat_minor": 2
}
