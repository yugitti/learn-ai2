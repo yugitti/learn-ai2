{
 "cells": [
  {
   "cell_type": "code",
   "execution_count": 1,
   "metadata": {},
   "outputs": [],
   "source": [
    "import numpy as np\n",
    "import pandas as pd\n",
    "import matplotlib.pyplot as plt\n",
    "import seaborn as sns\n",
    "import torch\n",
    "from torch.autograd import Variable\n",
    "from sklearn import datasets\n",
    "from sklearn.linear_model import LogisticRegression\n",
    "\n",
    "%matplotlib inline\n",
    "custom_style = {'axes.labelcolor': 'white',\n",
    "                'xtick.color': 'white',\n",
    "                'ytick.color': 'white'}\n",
    "sns.set_style(\"darkgrid\", rc=custom_style)\n",
    "sns.set_context(\"notebook\")\n",
    "plt.style.use('dark_background')\n",
    "plt.rcParams[\"font.size\"] = 18"
   ]
  },
  {
   "cell_type": "code",
   "execution_count": 2,
   "metadata": {},
   "outputs": [],
   "source": [
    "import torch\n",
    "import torch.nn as nn\n",
    "import torch.optim as optim\n",
    "import torch.nn.functional as F\n",
    "from torchvision import datasets, transforms"
   ]
  },
  {
   "cell_type": "markdown",
   "metadata": {},
   "source": [
    "# Pytorch tutorial\n",
    "https://pytorch.org/tutorials/beginner/blitz/neural_networks_tutorial.html#sphx-glr-beginner-blitz-neural-networks-tutorial-py"
   ]
  },
  {
   "cell_type": "markdown",
   "metadata": {},
   "source": [
    "### 参考サイト\n",
    "https://qiita.com/mckeeeen/items/e255b4ac1efba88d0ca1\n",
    "https://pytorch.org/docs/0.3.1/\n",
    "https://github.com/pytorch/pytorch"
   ]
  },
  {
   "cell_type": "code",
   "execution_count": 21,
   "metadata": {},
   "outputs": [],
   "source": [
    "class Net(nn.Module):\n",
    "    def __init__(self):\n",
    "        super(Net, self).__init__()\n",
    "        #畳み込み層を定義する\n",
    "        #引数は順番に、サンプル数、チャネル数、フィルタのサイズ\n",
    "        self.conv1 = nn.Conv2d(1, 6, kernel_size=5)\n",
    "        #フィルタのサイズは正方形であればタプルではなく整数でも可（8行目と10行目は同じ意味）\n",
    "        self.conv2 = nn.Conv2d(6, 16, kernel_size=5)\n",
    "        #全結合層を定義する\n",
    "        #fc1の第一引数は、チャネル数*最後のプーリング層の出力のマップのサイズ=特徴量の数\n",
    "        self.fc1 = nn.Linear(16 * 5 * 5, 120)\n",
    "        self.fc2 = nn.Linear(120, 84)\n",
    "        self.fc3 = nn.Linear(84, 10)\n",
    "        \n",
    "    def forward(self, x):\n",
    "        #入力→畳み込み層1→活性化関数(ReLU)→プーリング層1(2*2)→出力\n",
    "        x = self.conv1(x)\n",
    "        x = F.relu(x)\n",
    "        x = F.max_pool2d(x, (2,2) )\n",
    "        \n",
    "        #入力→畳み込み層2→活性化関数(ReLU)→プーリング層2(2*2)→出力\n",
    "        x = self.conv2(x)\n",
    "        x = F.relu(x)\n",
    "        x = F.max_pool2d(x, 2)\n",
    "        \n",
    "        # output layer\n",
    "        #x = x.view(-1, self.num_flat_features(x))\n",
    "        # self.num_flat_featuresで特徴量の数を算出\n",
    "        x = x.view(-1, 16 * 5 * 5)\n",
    "        x = self.fc1(x)\n",
    "        x = F.relu(x)\n",
    "        x = self.fc2(x)\n",
    "        x = F.relu(x)\n",
    "        x = self.fc3(x)\n",
    "        \n",
    "        return x\n",
    "    \n",
    "    def num_flat_features(self, x):\n",
    "        #Conv2dは入力を4階のテンソルとして保持する(サンプル数*チャネル数*縦の長さ*横の長さ)\n",
    "        #よって、特徴量の数を数える時は[1:]でスライスしたものを用いる\n",
    "        size = x.size()[1:] ## all dimensions except the batch dimension\n",
    "        #特徴量の数=チャネル数*縦の長さ*横の長さを計算する\n",
    "        num_features = 1\n",
    "        for s in size:\n",
    "            num_features *= s\n",
    "        return num_features\n"
   ]
  },
  {
   "cell_type": "code",
   "execution_count": 22,
   "metadata": {},
   "outputs": [
    {
     "name": "stdout",
     "output_type": "stream",
     "text": [
      "Net(\n",
      "  (conv1): Conv2d(1, 6, kernel_size=(5, 5), stride=(1, 1))\n",
      "  (conv2): Conv2d(6, 16, kernel_size=(5, 5), stride=(1, 1))\n",
      "  (fc1): Linear(in_features=400, out_features=120, bias=True)\n",
      "  (fc2): Linear(in_features=120, out_features=84, bias=True)\n",
      "  (fc3): Linear(in_features=84, out_features=10, bias=True)\n",
      ")\n"
     ]
    }
   ],
   "source": [
    "net = Net()\n",
    "print(net)"
   ]
  },
  {
   "cell_type": "code",
   "execution_count": 23,
   "metadata": {},
   "outputs": [
    {
     "name": "stdout",
     "output_type": "stream",
     "text": [
      "10\n",
      "torch.Size([6, 1, 5, 5])\n",
      "torch.Size([16, 6, 5, 5])\n",
      "torch.Size([120, 400])\n",
      "torch.Size([84, 120])\n",
      "torch.Size([10, 84])\n"
     ]
    }
   ],
   "source": [
    "#net.parameters()をリストに型変換することでパラメータを取り出せる\n",
    "params = list(net.parameters())\n",
    "print(len(params))\n",
    "print(params[0].size()) ## convolution1\n",
    "print(params[2].size()) ## convolution2\n",
    "print(params[4].size()) ## linear1\n",
    "print(params[6].size()) ## linear2\n",
    "print(params[8].size()) ## linear3"
   ]
  },
  {
   "cell_type": "code",
   "execution_count": 24,
   "metadata": {},
   "outputs": [
    {
     "name": "stdout",
     "output_type": "stream",
     "text": [
      "tensor([[ 0.0932, -0.1176,  0.1071, -0.0424,  0.0137,  0.0069,  0.0969,  0.0077,\n",
      "         -0.0879,  0.0038]], grad_fn=<ThAddmmBackward>)\n"
     ]
    }
   ],
   "source": [
    "#入力データは畳み込み層に渡すために、4階のテンソル(サンプル数*チャネル数*縦の長さ*横の長さ)とする\n",
    "input = torch.randn(1, 1, 32, 32)\n",
    "#nn.Moduleクラスは、インスタンスに引数が渡された時にforwardメソッドを実行して戻り値を返す\n",
    "#つまり、net(input)で順伝播の計算を行って結果を返す\n",
    "out = net(input)\n",
    "print(out)"
   ]
  },
  {
   "cell_type": "code",
   "execution_count": 26,
   "metadata": {},
   "outputs": [
    {
     "name": "stdout",
     "output_type": "stream",
     "text": [
      "tensor(0.5602, grad_fn=<MseLossBackward>)\n"
     ]
    }
   ],
   "source": [
    "## Loss function\n",
    "#出力\n",
    "target = torch.randn(10) # dummy target, for examples\n",
    "#教師データ(今回は適当に作成)\n",
    "target = target.view(1, -1) # make it the same shape as output\n",
    "#損失関数(平均二乗誤差)のインスタンスを生成\n",
    "criterion = nn.MSELoss()\n",
    "#損失関数を計算\n",
    "loss = criterion(out, target)\n",
    "print(loss)"
   ]
  },
  {
   "cell_type": "code",
   "execution_count": 29,
   "metadata": {},
   "outputs": [
    {
     "name": "stdout",
     "output_type": "stream",
     "text": [
      "<MseLossBackward object at 0x1185a42e8>\n",
      "<ThAddmmBackward object at 0x1185af550>\n",
      "<ExpandBackward object at 0x1185a42e8>\n"
     ]
    }
   ],
   "source": [
    "## backpropagation のイテレーション\n",
    "f = loss.grad_fn\n",
    "print(f) ## MSELoss\n",
    "f = f.next_functions[0][0]\n",
    "print(f) ## Linear\n",
    "f = f.next_functions[0][0]\n",
    "print(f) ## ReLu"
   ]
  },
  {
   "cell_type": "code",
   "execution_count": 30,
   "metadata": {},
   "outputs": [
    {
     "name": "stdout",
     "output_type": "stream",
     "text": [
      "conv1.bias.grad after backward\n",
      "None\n",
      "conv1.bias.grad after backward\n",
      "tensor([-0.0088, -0.0111,  0.0112,  0.0079, -0.0050,  0.0079])\n"
     ]
    }
   ],
   "source": [
    "## Backprop\n",
    "#勾配の初期化\n",
    "net.zero_grad()\n",
    "#conv1のバイアスを試しに確認する\n",
    "#計算前\n",
    "print('conv1.bias.grad after backward')\n",
    "print(net.conv1.bias.grad)\n",
    "#勾配の計算\n",
    "loss.backward()\n",
    "#計算後\n",
    "print('conv1.bias.grad after backward')\n",
    "print(net.conv1.bias.grad)\n"
   ]
  },
  {
   "cell_type": "code",
   "execution_count": 31,
   "metadata": {},
   "outputs": [],
   "source": [
    "## update the weights by manual \n",
    "## this is very old style, generally should use optim module\n",
    "learning_rate = 0.01\n",
    "#学習した全てのパラメータについてforループで重みを更新する\n",
    "for f in net.parameters():\n",
    "    #.sub_でlearning_rate*f.grad.dataを引き算してinplaceする\n",
    "    f.data.sub_(f.grad.data * learning_rate)"
   ]
  },
  {
   "cell_type": "code",
   "execution_count": 32,
   "metadata": {},
   "outputs": [],
   "source": [
    "import torch.optim as optim\n",
    "\n",
    "# create your optimizer\n",
    "#SGDのインスタンスを生成\n",
    "optimizer = optim.SGD(net.parameters(), lr=0.01)\n",
    "\n",
    "# in your training loop:\n",
    "#イテレーション毎に以下を実行する\n",
    "#勾配の初期化\n",
    "optimizer.zero_grad() # zero the gradient buffers\n",
    "#出力の計算(順伝播)\n",
    "output = net(input)\n",
    "#損失関数の計算\n",
    "loss = criterion(output, target)\n",
    "#勾配の計算(誤差逆伝播)\n",
    "loss.backward()\n",
    "#重みの更新\n",
    "optimizer.step() # Does the update"
   ]
  },
  {
   "cell_type": "code",
   "execution_count": null,
   "metadata": {},
   "outputs": [],
   "source": []
  }
 ],
 "metadata": {
  "kernelspec": {
   "display_name": "Python 3",
   "language": "python",
   "name": "python3"
  },
  "language_info": {
   "codemirror_mode": {
    "name": "ipython",
    "version": 3
   },
   "file_extension": ".py",
   "mimetype": "text/x-python",
   "name": "python",
   "nbconvert_exporter": "python",
   "pygments_lexer": "ipython3",
   "version": "3.5.2"
  }
 },
 "nbformat": 4,
 "nbformat_minor": 2
}
