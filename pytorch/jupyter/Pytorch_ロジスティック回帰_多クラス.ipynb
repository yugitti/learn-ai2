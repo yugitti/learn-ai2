{
 "cells": [
  {
   "cell_type": "code",
   "execution_count": 33,
   "metadata": {},
   "outputs": [],
   "source": [
    "import numpy as np\n",
    "import pandas as pd\n",
    "import matplotlib.pyplot as plt\n",
    "import seaborn as sns\n",
    "import torch\n",
    "from torch.autograd import Variable\n",
    "from sklearn import datasets\n",
    "from sklearn.linear_model import LogisticRegression\n",
    "\n",
    "%matplotlib inline\n",
    "custom_style = {'axes.labelcolor': 'white',\n",
    "                'xtick.color': 'white',\n",
    "                'ytick.color': 'white'}\n",
    "sns.set_style(\"darkgrid\", rc=custom_style)\n",
    "sns.set_context(\"notebook\")\n",
    "plt.style.use('dark_background')\n",
    "plt.rcParams[\"font.size\"] = 18"
   ]
  },
  {
   "cell_type": "code",
   "execution_count": 58,
   "metadata": {},
   "outputs": [],
   "source": [
    "iris = datasets.load_iris()"
   ]
  },
  {
   "cell_type": "code",
   "execution_count": 59,
   "metadata": {},
   "outputs": [],
   "source": [
    "X = iris.data\n",
    "y = iris.target"
   ]
  },
  {
   "cell_type": "code",
   "execution_count": 60,
   "metadata": {},
   "outputs": [],
   "source": [
    "from sklearn.model_selection import train_test_split\n",
    "X_train, X_test, y_train, y_test = train_test_split(X, y, test_size=0.3, random_state=1, stratify=y)"
   ]
  },
  {
   "cell_type": "code",
   "execution_count": 61,
   "metadata": {},
   "outputs": [],
   "source": [
    "from sklearn.preprocessing import StandardScaler\n",
    "sc = StandardScaler()\n",
    "sc.fit(X_train)\n",
    "X_train = sc.fit_transform(X_train)\n",
    "X_test = sc.fit_transform(X_test)"
   ]
  },
  {
   "cell_type": "markdown",
   "metadata": {},
   "source": [
    "## scikit-learnによるLogistic Regression"
   ]
  },
  {
   "cell_type": "code",
   "execution_count": 21,
   "metadata": {},
   "outputs": [],
   "source": [
    "from sklearn.linear_model import LogisticRegression\n",
    "lr = LogisticRegression(C=100.0, random_state=1)"
   ]
  },
  {
   "cell_type": "code",
   "execution_count": 22,
   "metadata": {},
   "outputs": [
    {
     "data": {
      "text/plain": [
       "LogisticRegression(C=100.0, class_weight=None, dual=False, fit_intercept=True,\n",
       "          intercept_scaling=1, max_iter=100, multi_class='ovr', n_jobs=1,\n",
       "          penalty='l2', random_state=1, solver='liblinear', tol=0.0001,\n",
       "          verbose=0, warm_start=False)"
      ]
     },
     "execution_count": 22,
     "metadata": {},
     "output_type": "execute_result"
    }
   ],
   "source": [
    "lr.fit(X_train, y_train)"
   ]
  },
  {
   "cell_type": "code",
   "execution_count": 29,
   "metadata": {},
   "outputs": [
    {
     "name": "stdout",
     "output_type": "stream",
     "text": [
      "accuracy: 0.9778\n"
     ]
    }
   ],
   "source": [
    "y_pred = lr.predict(X_test)\n",
    "acc = (y_pred == y_test).sum() / len(y_test)\n",
    "print('accuracy: {:.4f}'.format(acc))"
   ]
  },
  {
   "cell_type": "markdown",
   "metadata": {},
   "source": [
    "## PytorchによるLogistic Regression"
   ]
  },
  {
   "cell_type": "code",
   "execution_count": 73,
   "metadata": {},
   "outputs": [],
   "source": [
    "import torch\n",
    "import torch.nn as nn"
   ]
  },
  {
   "cell_type": "code",
   "execution_count": 84,
   "metadata": {},
   "outputs": [],
   "source": [
    "num_class = np.unique(y_train).shape[0]"
   ]
  },
  {
   "cell_type": "code",
   "execution_count": 85,
   "metadata": {},
   "outputs": [],
   "source": [
    "# y_train = y_train.reshape(-1,1)\n",
    "# y_test = y_test.reshape(-1,1)"
   ]
  },
  {
   "cell_type": "code",
   "execution_count": 86,
   "metadata": {},
   "outputs": [],
   "source": [
    "net = nn.Linear(in_features=X_train.shape[1], out_features=num_class)\n",
    "## 勾配降下法のオプティマイザーに上で定義したネットワークのパラメータを渡す\n",
    "optimizer = torch.optim.SGD(net.parameters(), lr = 0.01)\n",
    "## MSE(mean squared error) lossクラス\n",
    "loss_fn = nn.CrossEntropyLoss()"
   ]
  },
  {
   "cell_type": "code",
   "execution_count": 87,
   "metadata": {},
   "outputs": [],
   "source": [
    "def train(X_train, y_train):\n",
    "    inputs = torch.from_numpy(X_train).float()\n",
    "    targets = torch.from_numpy(y_train).long()\n",
    "    \n",
    "    optimizer.zero_grad()\n",
    "    outputs = net(inputs)\n",
    "    loss = loss_fn(outputs, targets)\n",
    "    loss.backward()\n",
    "    \n",
    "    optimizer.step()\n",
    "    \n",
    "    return loss.item()"
   ]
  },
  {
   "cell_type": "code",
   "execution_count": 90,
   "metadata": {},
   "outputs": [],
   "source": [
    "def valid(X_test, y_test):\n",
    "    inputs = torch.from_numpy(X_test).float()\n",
    "    targets = torch.from_numpy(y_test).long() ## vectorで渡す必要がある\n",
    "    \n",
    "    outputs = net(inputs)\n",
    "    val_loss = loss_fn(outputs, targets)\n",
    "    \n",
    "    _, predicted = torch.max(outputs, 1)\n",
    "    correct = (predicted == targets).sum().item()\n",
    "    val_acc = float(correct) / targets.size(0)\n",
    "    \n",
    "    return val_loss.item(), val_acc"
   ]
  },
  {
   "cell_type": "code",
   "execution_count": 91,
   "metadata": {},
   "outputs": [
    {
     "name": "stdout",
     "output_type": "stream",
     "text": [
      "epech 0, loss: 1.4995, val_loss: 1.5135, val_acc: 0.088889\n",
      "epech 100, loss: 0.7208, val_loss: 0.7576, val_acc: 0.666667\n",
      "epech 200, loss: 0.5478, val_loss: 0.5927, val_acc: 0.755556\n",
      "epech 300, loss: 0.4737, val_loss: 0.5248, val_acc: 0.777778\n",
      "epech 400, loss: 0.4305, val_loss: 0.4864, val_acc: 0.800000\n",
      "epech 500, loss: 0.4014, val_loss: 0.4608, val_acc: 0.800000\n",
      "epech 600, loss: 0.3799, val_loss: 0.4421, val_acc: 0.800000\n",
      "epech 700, loss: 0.3632, val_loss: 0.4274, val_acc: 0.800000\n",
      "epech 800, loss: 0.3495, val_loss: 0.4151, val_acc: 0.800000\n",
      "epech 900, loss: 0.3379, val_loss: 0.4045, val_acc: 0.800000\n",
      "epech 1000, loss: 0.3278, val_loss: 0.3950, val_acc: 0.800000\n",
      "epech 1100, loss: 0.3190, val_loss: 0.3864, val_acc: 0.800000\n",
      "epech 1200, loss: 0.3109, val_loss: 0.3784, val_acc: 0.822222\n",
      "epech 1300, loss: 0.3036, val_loss: 0.3709, val_acc: 0.822222\n",
      "epech 1400, loss: 0.2969, val_loss: 0.3638, val_acc: 0.822222\n",
      "epech 1500, loss: 0.2907, val_loss: 0.3570, val_acc: 0.822222\n",
      "epech 1600, loss: 0.2849, val_loss: 0.3506, val_acc: 0.844444\n",
      "epech 1700, loss: 0.2794, val_loss: 0.3444, val_acc: 0.844444\n",
      "epech 1800, loss: 0.2742, val_loss: 0.3385, val_acc: 0.844444\n",
      "epech 1900, loss: 0.2693, val_loss: 0.3327, val_acc: 0.844444\n",
      "epech 2000, loss: 0.2647, val_loss: 0.3272, val_acc: 0.844444\n",
      "epech 2100, loss: 0.2602, val_loss: 0.3219, val_acc: 0.844444\n",
      "epech 2200, loss: 0.2560, val_loss: 0.3168, val_acc: 0.844444\n",
      "epech 2300, loss: 0.2520, val_loss: 0.3118, val_acc: 0.844444\n",
      "epech 2400, loss: 0.2481, val_loss: 0.3070, val_acc: 0.844444\n",
      "epech 2500, loss: 0.2444, val_loss: 0.3023, val_acc: 0.844444\n",
      "epech 2600, loss: 0.2408, val_loss: 0.2978, val_acc: 0.844444\n",
      "epech 2700, loss: 0.2374, val_loss: 0.2934, val_acc: 0.844444\n",
      "epech 2800, loss: 0.2341, val_loss: 0.2892, val_acc: 0.844444\n",
      "epech 2900, loss: 0.2309, val_loss: 0.2851, val_acc: 0.844444\n",
      "epech 3000, loss: 0.2279, val_loss: 0.2811, val_acc: 0.866667\n",
      "epech 3100, loss: 0.2249, val_loss: 0.2772, val_acc: 0.866667\n",
      "epech 3200, loss: 0.2220, val_loss: 0.2735, val_acc: 0.866667\n",
      "epech 3300, loss: 0.2193, val_loss: 0.2699, val_acc: 0.866667\n",
      "epech 3400, loss: 0.2166, val_loss: 0.2663, val_acc: 0.866667\n",
      "epech 3500, loss: 0.2140, val_loss: 0.2629, val_acc: 0.866667\n",
      "epech 3600, loss: 0.2115, val_loss: 0.2596, val_acc: 0.888889\n",
      "epech 3700, loss: 0.2091, val_loss: 0.2563, val_acc: 0.888889\n",
      "epech 3800, loss: 0.2068, val_loss: 0.2532, val_acc: 0.888889\n",
      "epech 3900, loss: 0.2045, val_loss: 0.2502, val_acc: 0.911111\n",
      "epech 4000, loss: 0.2023, val_loss: 0.2472, val_acc: 0.911111\n",
      "epech 4100, loss: 0.2002, val_loss: 0.2443, val_acc: 0.911111\n",
      "epech 4200, loss: 0.1981, val_loss: 0.2415, val_acc: 0.911111\n",
      "epech 4300, loss: 0.1961, val_loss: 0.2388, val_acc: 0.911111\n",
      "epech 4400, loss: 0.1941, val_loss: 0.2361, val_acc: 0.911111\n",
      "epech 4500, loss: 0.1922, val_loss: 0.2335, val_acc: 0.911111\n",
      "epech 4600, loss: 0.1903, val_loss: 0.2310, val_acc: 0.911111\n",
      "epech 4700, loss: 0.1885, val_loss: 0.2285, val_acc: 0.911111\n",
      "epech 4800, loss: 0.1868, val_loss: 0.2261, val_acc: 0.933333\n",
      "epech 4900, loss: 0.1851, val_loss: 0.2238, val_acc: 0.955556\n",
      "epech 5000, loss: 0.1834, val_loss: 0.2215, val_acc: 0.955556\n",
      "epech 5100, loss: 0.1818, val_loss: 0.2193, val_acc: 0.955556\n",
      "epech 5200, loss: 0.1802, val_loss: 0.2172, val_acc: 0.955556\n",
      "epech 5300, loss: 0.1787, val_loss: 0.2150, val_acc: 0.977778\n",
      "epech 5400, loss: 0.1772, val_loss: 0.2130, val_acc: 0.977778\n",
      "epech 5500, loss: 0.1757, val_loss: 0.2110, val_acc: 0.977778\n",
      "epech 5600, loss: 0.1743, val_loss: 0.2090, val_acc: 0.977778\n",
      "epech 5700, loss: 0.1729, val_loss: 0.2071, val_acc: 0.977778\n",
      "epech 5800, loss: 0.1715, val_loss: 0.2052, val_acc: 0.977778\n",
      "epech 5900, loss: 0.1702, val_loss: 0.2034, val_acc: 0.977778\n",
      "epech 6000, loss: 0.1689, val_loss: 0.2016, val_acc: 0.977778\n",
      "epech 6100, loss: 0.1676, val_loss: 0.1999, val_acc: 0.977778\n",
      "epech 6200, loss: 0.1664, val_loss: 0.1981, val_acc: 0.977778\n",
      "epech 6300, loss: 0.1652, val_loss: 0.1965, val_acc: 0.977778\n",
      "epech 6400, loss: 0.1640, val_loss: 0.1948, val_acc: 0.977778\n",
      "epech 6500, loss: 0.1629, val_loss: 0.1932, val_acc: 0.977778\n",
      "epech 6600, loss: 0.1617, val_loss: 0.1917, val_acc: 0.977778\n",
      "epech 6700, loss: 0.1606, val_loss: 0.1901, val_acc: 0.977778\n",
      "epech 6800, loss: 0.1595, val_loss: 0.1886, val_acc: 0.977778\n",
      "epech 6900, loss: 0.1585, val_loss: 0.1871, val_acc: 0.977778\n",
      "epech 7000, loss: 0.1574, val_loss: 0.1857, val_acc: 0.977778\n",
      "epech 7100, loss: 0.1564, val_loss: 0.1843, val_acc: 0.977778\n",
      "epech 7200, loss: 0.1554, val_loss: 0.1829, val_acc: 0.977778\n",
      "epech 7300, loss: 0.1544, val_loss: 0.1815, val_acc: 0.977778\n",
      "epech 7400, loss: 0.1535, val_loss: 0.1802, val_acc: 0.977778\n",
      "epech 7500, loss: 0.1525, val_loss: 0.1789, val_acc: 0.977778\n",
      "epech 7600, loss: 0.1516, val_loss: 0.1776, val_acc: 0.977778\n",
      "epech 7700, loss: 0.1507, val_loss: 0.1764, val_acc: 0.977778\n",
      "epech 7800, loss: 0.1498, val_loss: 0.1751, val_acc: 0.977778\n",
      "epech 7900, loss: 0.1489, val_loss: 0.1739, val_acc: 0.977778\n",
      "epech 8000, loss: 0.1481, val_loss: 0.1727, val_acc: 0.977778\n",
      "epech 8100, loss: 0.1473, val_loss: 0.1716, val_acc: 0.977778\n",
      "epech 8200, loss: 0.1464, val_loss: 0.1704, val_acc: 0.977778\n",
      "epech 8300, loss: 0.1456, val_loss: 0.1693, val_acc: 0.977778\n",
      "epech 8400, loss: 0.1448, val_loss: 0.1682, val_acc: 0.977778\n",
      "epech 8500, loss: 0.1441, val_loss: 0.1671, val_acc: 0.977778\n",
      "epech 8600, loss: 0.1433, val_loss: 0.1660, val_acc: 0.977778\n",
      "epech 8700, loss: 0.1425, val_loss: 0.1650, val_acc: 0.977778\n",
      "epech 8800, loss: 0.1418, val_loss: 0.1640, val_acc: 0.977778\n",
      "epech 8900, loss: 0.1411, val_loss: 0.1630, val_acc: 0.977778\n",
      "epech 9000, loss: 0.1404, val_loss: 0.1620, val_acc: 0.977778\n",
      "epech 9100, loss: 0.1397, val_loss: 0.1610, val_acc: 0.977778\n",
      "epech 9200, loss: 0.1390, val_loss: 0.1600, val_acc: 0.977778\n",
      "epech 9300, loss: 0.1383, val_loss: 0.1591, val_acc: 0.977778\n",
      "epech 9400, loss: 0.1376, val_loss: 0.1581, val_acc: 0.977778\n",
      "epech 9500, loss: 0.1370, val_loss: 0.1572, val_acc: 0.955556\n",
      "epech 9600, loss: 0.1363, val_loss: 0.1563, val_acc: 0.955556\n",
      "epech 9700, loss: 0.1357, val_loss: 0.1554, val_acc: 0.955556\n",
      "epech 9800, loss: 0.1351, val_loss: 0.1546, val_acc: 0.955556\n",
      "epech 9900, loss: 0.1344, val_loss: 0.1537, val_acc: 0.955556\n"
     ]
    }
   ],
   "source": [
    "losses = []\n",
    "val_losses = []\n",
    "val_acces = []\n",
    "epoch = 10000\n",
    "for e in range(epoch):\n",
    "    param = np.arange(X_train.shape[0])\n",
    "    np.random.shuffle(param)\n",
    "    X_train = X_train[param]\n",
    "    y_train = y_train[param]\n",
    "    \n",
    "    loss = train(X_train, y_train)\n",
    "    val_loss, val_acc = valid(X_test, y_test)\n",
    "    \n",
    "    if e % 100 == 0:\n",
    "        print('epech {:d}, loss: {:.4f}, val_loss: {:.4f}, val_acc: {:4f}'.format(e, loss, val_loss, val_acc))\n",
    "        \n",
    "    losses.append(loss)\n",
    "    val_losses.append(val_loss)\n",
    "    val_acces.append(val_acc)"
   ]
  },
  {
   "cell_type": "code",
   "execution_count": 81,
   "metadata": {},
   "outputs": [
    {
     "data": {
      "text/plain": [
       "[<matplotlib.lines.Line2D at 0x1a24d04f28>]"
      ]
     },
     "execution_count": 81,
     "metadata": {},
     "output_type": "execute_result"
    },
    {
     "data": {
      "image/png": "[encoded data removed]",
      "text/plain": [
       "<Figure size 432x288 with 1 Axes>"
      ]
     },
     "metadata": {},
     "output_type": "display_data"
    }
   ],
   "source": [
    "plt.plot(val_acces)"
   ]
  },
  {
   "cell_type": "code",
   "execution_count": null,
   "metadata": {},
   "outputs": [],
   "source": []
  }
 ],
 "metadata": {
  "kernelspec": {
   "display_name": "Python 3",
   "language": "python",
   "name": "python3"
  },
  "language_info": {
   "codemirror_mode": {
    "name": "ipython",
    "version": 3
   },
   "file_extension": ".py",
   "mimetype": "text/x-python",
   "name": "python",
   "nbconvert_exporter": "python",
   "pygments_lexer": "ipython3",
   "version": "3.6.6"
  }
 },
 "nbformat": 4,
 "nbformat_minor": 2
}
