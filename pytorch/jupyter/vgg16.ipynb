{
 "cells": [
  {
   "cell_type": "code",
   "execution_count": 2,
   "metadata": {},
   "outputs": [],
   "source": [
    "import torch\n",
    "import torch.nn as nn\n",
    "import torch.optim as optim\n",
    "from torch.utils.data import DataLoader\n",
    "from torchvision import datasets, transforms, models\n",
    "from glob import glob\n",
    "import os\n",
    "\n",
    "import json\n",
    "import numpy as np\n",
    "from PIL import Image"
   ]
  },
  {
   "cell_type": "code",
   "execution_count": 3,
   "metadata": {},
   "outputs": [
    {
     "name": "stdout",
     "output_type": "stream",
     "text": [
      "/public/dl_exp_cv_add/mini_cifar/train/*.png\n"
     ]
    }
   ],
   "source": [
    "gpu = 5\n",
    "dir = '/public/dl_exp_cv_add/mini_cifar/train'\n",
    "\n",
    "temp =  os.path.join(dir, '*.png')\n",
    "paths = glob(temp)\n",
    "print(temp)\n",
    "assert len(paths) != 0\n",
    "if not os.path.exists('db'):\n",
    "    os.mkdir('db')"
   ]
  },
  {
   "cell_type": "code",
   "execution_count": 4,
   "metadata": {},
   "outputs": [],
   "source": [
    "normalize = transforms.Normalize(\n",
    "    mean=[0.485, 0.456, 0.406],\n",
    "    std=[0.229, 0.224, 0.225]\n",
    ")\n",
    "\n",
    "preprocess = transforms.Compose([\n",
    "    transforms.Resize(256),\n",
    "    transforms.CenterCrop(224),\n",
    "    transforms.ToTensor()\n",
    "])\n",
    "\n",
    "img = Image.open(paths[0])\n",
    "img_tensor = preprocess(img)"
   ]
  },
  {
   "cell_type": "code",
   "execution_count": 7,
   "metadata": {},
   "outputs": [
    {
     "data": {
      "image/png": "[encoded data removed]",
      "text/plain": [
       "<PIL.PngImagePlugin.PngImageFile image mode=RGB size=32x32 at 0x2AB3C0833E48>"
      ]
     },
     "execution_count": 7,
     "metadata": {},
     "output_type": "execute_result"
    }
   ],
   "source": [
    "img"
   ]
  },
  {
   "cell_type": "code",
   "execution_count": 10,
   "metadata": {},
   "outputs": [],
   "source": [
    "class_index = json.load(open('../src/imagenet_class_index.json', 'r'))"
   ]
  },
  {
   "cell_type": "code",
   "execution_count": 15,
   "metadata": {},
   "outputs": [
    {
     "data": {
      "text/plain": [
       "'0'"
      ]
     },
     "execution_count": 15,
     "metadata": {},
     "output_type": "execute_result"
    }
   ],
   "source": [
    "str(0)"
   ]
  },
  {
   "cell_type": "code",
   "execution_count": 17,
   "metadata": {},
   "outputs": [
    {
     "data": {
      "text/plain": [
       "['n02328150', 'Angora']"
      ]
     },
     "execution_count": 17,
     "metadata": {},
     "output_type": "execute_result"
    }
   ],
   "source": [
    "class_index[str(332)]"
   ]
  },
  {
   "cell_type": "code",
   "execution_count": 23,
   "metadata": {},
   "outputs": [],
   "source": [
    "catetgory = [s.split('/')[-1].split('_')[0] for s in paths]  "
   ]
  },
  {
   "cell_type": "code",
   "execution_count": 28,
   "metadata": {},
   "outputs": [
    {
     "data": {
      "text/plain": [
       "{'airplane',\n",
       " 'automobile',\n",
       " 'bird',\n",
       " 'cat',\n",
       " 'deer',\n",
       " 'dog',\n",
       " 'frog',\n",
       " 'horse',\n",
       " 'ship',\n",
       " 'truck'}"
      ]
     },
     "execution_count": 28,
     "metadata": {},
     "output_type": "execute_result"
    }
   ],
   "source": [
    "set(catetgory)"
   ]
  },
  {
   "cell_type": "code",
   "execution_count": 44,
   "metadata": {},
   "outputs": [
    {
     "name": "stdout",
     "output_type": "stream",
     "text": [
      "\u001b[0m\u001b[01;34mbp\u001b[0m/               \u001b[01;34mdl_exp_nlp\u001b[0m/        \u001b[01;34mpython_intro_admin\u001b[0m/\r\n",
      "\u001b[01;34mc9_default\u001b[0m/       \u001b[01;34mdl_exp_nlp_final\u001b[0m/  \u001b[01;34mpython_programming_introduction\u001b[0m/\r\n",
      "\u001b[01;34mc9sdk\u001b[0m/            \u001b[01;34mdl_exp_nlp_new\u001b[0m/    \u001b[01;34mrl\u001b[0m/\r\n",
      "\u001b[01;34mcv_reference\u001b[0m/     \u001b[01;34mdl_exp_rl\u001b[0m/         \u001b[01;36mscikit-learn\u001b[0m@\r\n",
      "\u001b[01;32mdl-exp-book.pdf\u001b[0m*  \u001b[01;34mimurl\u001b[0m/             \u001b[01;34mta\u001b[0m/\r\n",
      "\u001b[01;34mdl_exp_cv\u001b[0m/        \u001b[01;34minst_ai\u001b[0m/           \u001b[01;34mtemplates\u001b[0m/\r\n",
      "\u001b[01;34mdl_exp_cv_add\u001b[0m/    \u001b[01;34mjupyter_test\u001b[0m/      \u001b[01;34mtree\u001b[0m/\r\n"
     ]
    }
   ],
   "source": [
    "%ls /public/"
   ]
  },
  {
   "cell_type": "code",
   "execution_count": 35,
   "metadata": {},
   "outputs": [
    {
     "data": {
      "text/plain": [
       "(32, 32)"
      ]
     },
     "execution_count": 35,
     "metadata": {},
     "output_type": "execute_result"
    }
   ],
   "source": [
    "img.size"
   ]
  },
  {
   "cell_type": "code",
   "execution_count": 46,
   "metadata": {},
   "outputs": [
    {
     "name": "stderr",
     "output_type": "stream",
     "text": [
      "UsageError: Line magic function `%wget` not found.\n"
     ]
    }
   ],
   "source": [
    "%wget 'http://starpentagon.net/analytics/wp-content/uploads/ILSVRC2012/009_gazelle/n02423022_46.jpg''"
   ]
  },
  {
   "cell_type": "code",
   "execution_count": null,
   "metadata": {},
   "outputs": [],
   "source": []
  }
 ],
 "metadata": {
  "kernelspec": {
   "display_name": "Python 3",
   "language": "python",
   "name": "python3"
  },
  "language_info": {
   "codemirror_mode": {
    "name": "ipython",
    "version": 3
   },
   "file_extension": ".py",
   "mimetype": "text/x-python",
   "name": "python",
   "nbconvert_exporter": "python",
   "pygments_lexer": "ipython3",
   "version": "3.5.2"
  }
 },
 "nbformat": 4,
 "nbformat_minor": 2
}
