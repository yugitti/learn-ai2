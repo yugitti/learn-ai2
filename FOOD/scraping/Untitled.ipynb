{
 "cells": [
  {
   "cell_type": "code",
   "execution_count": 1,
   "metadata": {},
   "outputs": [],
   "source": [
    "import pandas as pd\n",
    "pd.set_option(\"display.max_colwidth\", 80)"
   ]
  },
  {
   "cell_type": "code",
   "execution_count": 2,
   "metadata": {},
   "outputs": [],
   "source": [
    "df1 = pd.read_csv('kikkoman.csv')\n",
    "df2 = pd.read_csv('excite.csv')\n",
    "df3 = pd.read_csv('kyouno.csv')"
   ]
  },
  {
   "cell_type": "code",
   "execution_count": 3,
   "metadata": {},
   "outputs": [
    {
     "name": "stdout",
     "output_type": "stream",
     "text": [
      "248443\n",
      "15835\n",
      "6015\n"
     ]
    }
   ],
   "source": [
    "print(len(df1))\n",
    "print(len(df2))\n",
    "print(len(df3))"
   ]
  },
  {
   "cell_type": "code",
   "execution_count": 15,
   "metadata": {},
   "outputs": [],
   "source": [
    "type1 = df1.type.unique()\n",
    "type2 = df2.type.unique()\n",
    "type3 = df3.type.unique()"
   ]
  },
  {
   "cell_type": "code",
   "execution_count": 16,
   "metadata": {},
   "outputs": [
    {
     "name": "stdout",
     "output_type": "stream",
     "text": [
      "69\n",
      "65\n",
      "63\n"
     ]
    }
   ],
   "source": [
    "print(len(type1))\n",
    "print(len(type2))\n",
    "print(len(type3))"
   ]
  },
  {
   "cell_type": "code",
   "execution_count": 91,
   "metadata": {},
   "outputs": [],
   "source": [
    "df2_p = df2[df2.calorie != 'empty']\n",
    "df2_p = df2_p.drop_duplicates(subset=['title'])\n",
    "print('{}/{}'.format(len(df2_p), len(df2)))"
   ]
  },
  {
   "cell_type": "code",
   "execution_count": 92,
   "metadata": {},
   "outputs": [
    {
     "name": "stdout",
     "output_type": "stream",
     "text": [
      "146028/183166\n"
     ]
    }
   ],
   "source": [
    "df2_p.to_csv('./excite_pick.csv')"
   ]
  },
  {
   "cell_type": "code",
   "execution_count": 106,
   "metadata": {},
   "outputs": [
    {
     "name": "stdout",
     "output_type": "stream",
     "text": [
      "4119/6015\n"
     ]
    }
   ],
   "source": [
    "df3_p = df3[df3.calorie != 'empty']\n",
    "df3_p = df3_p.drop_duplicates(subset=['title'])\n",
    "print('{}/{}'.format(len(df3_p), len(df3)))"
   ]
  },
  {
   "cell_type": "code",
   "execution_count": 107,
   "metadata": {},
   "outputs": [],
   "source": [
    "df2_p.to_csv('./kyouno_pick.csv')"
   ]
  },
  {
   "cell_type": "code",
   "execution_count": 109,
   "metadata": {},
   "outputs": [
    {
     "data": {
      "text/plain": [
       "248304"
      ]
     },
     "execution_count": 109,
     "metadata": {},
     "output_type": "execute_result"
    }
   ],
   "source": [
    "len(df1)"
   ]
  },
  {
   "cell_type": "code",
   "execution_count": 4,
   "metadata": {},
   "outputs": [
    {
     "data": {
      "text/html": [
       "<div>\n",
       "<style scoped>\n",
       "    .dataframe tbody tr th:only-of-type {\n",
       "        vertical-align: middle;\n",
       "    }\n",
       "\n",
       "    .dataframe tbody tr th {\n",
       "        vertical-align: top;\n",
       "    }\n",
       "\n",
       "    .dataframe thead th {\n",
       "        text-align: right;\n",
       "    }\n",
       "</style>\n",
       "<table border=\"1\" class=\"dataframe\">\n",
       "  <thead>\n",
       "    <tr style=\"text-align: right;\">\n",
       "      <th></th>\n",
       "      <th>calorie</th>\n",
       "      <th>category</th>\n",
       "      <th>img</th>\n",
       "      <th>salt</th>\n",
       "      <th>title</th>\n",
       "      <th>type</th>\n",
       "      <th>url</th>\n",
       "    </tr>\n",
       "  </thead>\n",
       "  <tbody>\n",
       "    <tr>\n",
       "      <th>0</th>\n",
       "      <td>490kcal</td>\n",
       "      <td>fly</td>\n",
       "      <td>/homecook/search/recipe/img/00003669.jpg</td>\n",
       "      <td>3.4g</td>\n",
       "      <td>カレーうどん</td>\n",
       "      <td>ポテトコロッケ</td>\n",
       "      <td>http://www.kikkoman.co.jp/homecook/search/recipe/00003669/index.html</td>\n",
       "    </tr>\n",
       "    <tr>\n",
       "      <th>1</th>\n",
       "      <td>337kcal</td>\n",
       "      <td>fly</td>\n",
       "      <td>/homecook/search/recipe/img/00004967.jpg</td>\n",
       "      <td>3.0g</td>\n",
       "      <td>たけのこ入りタイ風カレー</td>\n",
       "      <td>ポテトコロッケ</td>\n",
       "      <td>http://www.kikkoman.co.jp/homecook/search/recipe/00004967/index.html</td>\n",
       "    </tr>\n",
       "    <tr>\n",
       "      <th>2</th>\n",
       "      <td>367kcal</td>\n",
       "      <td>fly</td>\n",
       "      <td>/homecook/search/recipe/img/00003589.jpg</td>\n",
       "      <td>3.3g</td>\n",
       "      <td>ビーフカレー</td>\n",
       "      <td>ポテトコロッケ</td>\n",
       "      <td>http://www.kikkoman.co.jp/homecook/search/recipe/00003589/index.html</td>\n",
       "    </tr>\n",
       "    <tr>\n",
       "      <th>3</th>\n",
       "      <td>227kcal</td>\n",
       "      <td>fly</td>\n",
       "      <td>/homecook/search/recipe/img/00000856.jpg</td>\n",
       "      <td>1.3g</td>\n",
       "      <td>鶏ひき肉のカレー風味　レタス包み</td>\n",
       "      <td>ポテトコロッケ</td>\n",
       "      <td>http://www.kikkoman.co.jp/homecook/search/recipe/00000856/index.html</td>\n",
       "    </tr>\n",
       "    <tr>\n",
       "      <th>4</th>\n",
       "      <td>204kcal</td>\n",
       "      <td>fly</td>\n",
       "      <td>/homecook/search/recipe/img/00005864.jpg</td>\n",
       "      <td>2.7g</td>\n",
       "      <td>根菜スープカレー</td>\n",
       "      <td>ポテトコロッケ</td>\n",
       "      <td>http://www.kikkoman.co.jp/homecook/search/recipe/00005864/index.html</td>\n",
       "    </tr>\n",
       "  </tbody>\n",
       "</table>\n",
       "</div>"
      ],
      "text/plain": [
       "   calorie category                                       img  salt  \\\n",
       "0  490kcal      fly  /homecook/search/recipe/img/00003669.jpg  3.4g   \n",
       "1  337kcal      fly  /homecook/search/recipe/img/00004967.jpg  3.0g   \n",
       "2  367kcal      fly  /homecook/search/recipe/img/00003589.jpg  3.3g   \n",
       "3  227kcal      fly  /homecook/search/recipe/img/00000856.jpg  1.3g   \n",
       "4  204kcal      fly  /homecook/search/recipe/img/00005864.jpg  2.7g   \n",
       "\n",
       "              title     type  \\\n",
       "0            カレーうどん  ポテトコロッケ   \n",
       "1      たけのこ入りタイ風カレー  ポテトコロッケ   \n",
       "2            ビーフカレー  ポテトコロッケ   \n",
       "3  鶏ひき肉のカレー風味　レタス包み  ポテトコロッケ   \n",
       "4          根菜スープカレー  ポテトコロッケ   \n",
       "\n",
       "                                                                    url  \n",
       "0  http://www.kikkoman.co.jp/homecook/search/recipe/00003669/index.html  \n",
       "1  http://www.kikkoman.co.jp/homecook/search/recipe/00004967/index.html  \n",
       "2  http://www.kikkoman.co.jp/homecook/search/recipe/00003589/index.html  \n",
       "3  http://www.kikkoman.co.jp/homecook/search/recipe/00000856/index.html  \n",
       "4  http://www.kikkoman.co.jp/homecook/search/recipe/00005864/index.html  "
      ]
     },
     "execution_count": 4,
     "metadata": {},
     "output_type": "execute_result"
    }
   ],
   "source": [
    "df1.head()"
   ]
  },
  {
   "cell_type": "code",
   "execution_count": null,
   "metadata": {},
   "outputs": [],
   "source": []
  }
 ],
 "metadata": {
  "kernelspec": {
   "display_name": "Python 3",
   "language": "python",
   "name": "python3"
  },
  "language_info": {
   "codemirror_mode": {
    "name": "ipython",
    "version": 3
   },
   "file_extension": ".py",
   "mimetype": "text/x-python",
   "name": "python",
   "nbconvert_exporter": "python",
   "pygments_lexer": "ipython3",
   "version": "3.5.2"
  }
 },
 "nbformat": 4,
 "nbformat_minor": 2
}
