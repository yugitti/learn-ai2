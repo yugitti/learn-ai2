{
 "cells": [
  {
   "cell_type": "code",
   "execution_count": 1,
   "metadata": {},
   "outputs": [],
   "source": [
    "from bs4 import BeautifulSoup\n",
    "import requests\n",
    "import pandas as pd\n",
    "import os\n",
    "import urllib\n",
    "proxies = {\n",
    "  'http': 'http://proxy-sen.noc.sony.co.jp:10080',\n",
    "  'https': 'proxy-sen.noc.sony.co.jp:10080',\n",
    "}"
   ]
  },
  {
   "cell_type": "code",
   "execution_count": 2,
   "metadata": {},
   "outputs": [],
   "source": [
    "url = \"https://erecipe.woman.excite.co.jp/detail/b6ea3117597369f7d32e614c7897edd5.html\""
   ]
  },
  {
   "cell_type": "code",
   "execution_count": 3,
   "metadata": {},
   "outputs": [],
   "source": [
    "res = requests.get(url, proxies=proxies)\n",
    "# res = requests.get(url)\n",
    "sp = BeautifulSoup(res.content, \"html.parser\")"
   ]
  },
  {
   "cell_type": "code",
   "execution_count": 14,
   "metadata": {},
   "outputs": [
    {
     "name": "stdout",
     "output_type": "stream",
     "text": [
      "153\n"
     ]
    }
   ],
   "source": [
    "nutrion = sp.find_all('span')\n",
    "for n in nutrion:\n",
    "    nc = n.findChild('strong')\n",
    "    if nc:\n",
    "        print(nc.text)"
   ]
  },
  {
   "cell_type": "code",
   "execution_count": 8,
   "metadata": {},
   "outputs": [
    {
     "name": "stdout",
     "output_type": "stream",
     "text": [
      "2.1g\n"
     ]
    }
   ],
   "source": [
    "# salt = sp.find_all('dl', attrs={'data-label': 'salt'})\n",
    "# print(salt[0].find(\"dd\").text)"
   ]
  },
  {
   "cell_type": "code",
   "execution_count": 23,
   "metadata": {},
   "outputs": [
    {
     "name": "stdout",
     "output_type": "stream",
     "text": [
      "https://imgc.eximg.jp/i=https%253A%252F%252Fimage.excite.co.jp%252Fjp%252Ferecipe%252Frecipe%252Fb%252F6%252Fb6ea3117597369f7d32e614c7897edd5%252F9aba15e322411dad4ad20e437d4ef408.jpeg&small=350&quality=100&type=jpeg\n"
     ]
    }
   ],
   "source": [
    "img_div = sp.find_all('div', class_='inner posrltv')\n",
    "for n in img_div:\n",
    "    img = n.findChild('img')\n",
    "    if img:\n",
    "        print(img['src'])"
   ]
  },
  {
   "cell_type": "code",
   "execution_count": 19,
   "metadata": {},
   "outputs": [
    {
     "name": "stdout",
     "output_type": "stream",
     "text": [
      "カレーにゅうめん\n"
     ]
    }
   ],
   "source": [
    "title = sp.find_all('span', class_='dispbl')\n",
    "for n in title:\n",
    "    nc = n.findChild('h1')\n",
    "    if nc:\n",
    "        print(nc.text)"
   ]
  },
  {
   "cell_type": "code",
   "execution_count": 63,
   "metadata": {},
   "outputs": [],
   "source": [
    "url_root = 'https://erecipe.woman.excite.co.jp/search/{}/?page='.format('カレー')"
   ]
  },
  {
   "cell_type": "code",
   "execution_count": 92,
   "metadata": {},
   "outputs": [],
   "source": [
    "search_result = []\n",
    "for i in range(1):\n",
    "    result = []\n",
    "    url = url_root + str(i+1)\n",
    "    res =requests.get(url, proxies=proxies)\n",
    "    sp = BeautifulSoup(res.content, 'html.parser')\n",
    "    div = sp.find_all('div', id='sch_list')\n",
    "    li_tag = div[0].find_all('li')\n",
    "    for li in li_tag:\n",
    "        a_tag = li.findChild('a')\n",
    "        if a_tag is not None:\n",
    "            a = a_tag.attrs.get('href')\n",
    "            if 'detail' in a :\n",
    "                result.append(a)\n",
    "    result = list(set(result))\n",
    "    search_result += result"
   ]
  },
  {
   "cell_type": "code",
   "execution_count": null,
   "metadata": {},
   "outputs": [],
   "source": []
  },
  {
   "cell_type": "code",
   "execution_count": 50,
   "metadata": {},
   "outputs": [],
   "source": [
    "root = 'http://www.kikkoman.co.jp/'\n",
    "test = '/homecook/search/recipe/00000046/index.html'"
   ]
  },
  {
   "cell_type": "code",
   "execution_count": 54,
   "metadata": {},
   "outputs": [
    {
     "data": {
      "text/plain": [
       "'http://www.kikkoman.co.jp/homecook/search/recipe/00000046/index.html'"
      ]
     },
     "execution_count": 54,
     "metadata": {},
     "output_type": "execute_result"
    }
   ],
   "source": [
    "urllib.parse.urljoin(root, test)"
   ]
  },
  {
   "cell_type": "code",
   "execution_count": 62,
   "metadata": {},
   "outputs": [],
   "source": [
    "d ={\n",
    "    'meat': ['豚肉', '鶏肉', '鶏むね肉', '豚バラ肉', '豚の角煮', '鶏ささみ', '牛肉', '鶏もも肉'],\n",
    "    'Vegetables': ['白菜', '里芋', '小松菜', 'れんこん', 'ほうれん草', 'かぼちゃ'],\n",
    "    'fish': ['さんま', 'さば', '牡蠣', '鮭・サーモン', 'さわら'],\n",
    "    'rice': ['カレー', 'おにぎり', '雑炊・おじや', 'オムライス', 'ドリア'],\n",
    "    'pasta': ['カルボナーラ', 'グラタン', 'マカロニグラタン', 'ミートソース', '明太子・たらこスパ'],\n",
    "    'noodle': ['うどん', 'カレーうどん', '煮込みうどん', '焼きうどん', 'にゅうめん', '焼きそば'],\n",
    "    'soup': ['ビーフシチュー', 'クリームシチュー', 'シチュー', '中華スープ', 'けんちん汁'],\n",
    "    'salad': ['生春巻き', '和風のサラダ', 'ポテトサラダ', 'かぼちゃのサラダ', '洋風のサラダ'],\n",
    "    'fly': ['ポテトコロッケ', 'かぼちゃコロッケ', 'メンチカツ', '里芋コロッケ', 'さつまいもコロッケ'],\n",
    "    'pot': ['おでん', 'もつ鍋', '豆乳鍋', 'しゃぶしゃぶ', '水炊き'],\n",
    "    'japanese_fly': ['お好み焼き', 'チヂミ', 'たこ焼き', '広島風お好み焼き', '関西風お好み焼き'],\n",
    "    'boal': ['おから', '豆腐', 'オムレツ', '豆腐ハンバーグ'],\n",
    "    'side_food': ['ひじき', 'わかめ', '春雨', 'きくらげ', 'こんにゃく']\n",
    "}"
   ]
  },
  {
   "cell_type": "code",
   "execution_count": 64,
   "metadata": {},
   "outputs": [
    {
     "name": "stdout",
     "output_type": "stream",
     "text": [
      "meat: 豚肉\n",
      "meat: 鶏肉\n",
      "meat: 鶏むね肉\n",
      "meat: 豚バラ肉\n",
      "meat: 豚の角煮\n",
      "meat: 鶏ささみ\n",
      "meat: 牛肉\n",
      "meat: 鶏もも肉\n",
      "Vegetables: 白菜\n",
      "Vegetables: 里芋\n",
      "Vegetables: 小松菜\n",
      "Vegetables: れんこん\n",
      "Vegetables: ほうれん草\n",
      "Vegetables: かぼちゃ\n",
      "fish: さんま\n",
      "fish: さば\n",
      "fish: 牡蠣\n",
      "fish: 鮭・サーモン\n",
      "fish: さわら\n",
      "rice: カレー\n",
      "rice: おにぎり\n",
      "rice: 雑炊・おじや\n",
      "rice: オムライス\n",
      "rice: ドリア\n",
      "pasta: カルボナーラ\n",
      "pasta: グラタン\n",
      "pasta: マカロニグラタン\n",
      "pasta: ミートソース\n",
      "pasta: 明太子・たらこスパ\n",
      "noodle: うどん\n",
      "noodle: カレーうどん\n",
      "noodle: 煮込みうどん\n",
      "noodle: 焼きうどん\n",
      "noodle: にゅうめん\n",
      "noodle: 焼きそば\n",
      "soup: ビーフシチュー\n",
      "soup: クリームシチュー\n",
      "soup: シチュー\n",
      "soup: 中華スープ\n",
      "soup: けんちん汁\n",
      "salad: 生春巻き\n",
      "salad: 和風のサラダ\n",
      "salad: ポテトサラダ\n",
      "salad: かぼちゃのサラダ\n",
      "salad: 洋風のサラダ\n",
      "fly: ポテトコロッケ\n",
      "fly: かぼちゃコロッケ\n",
      "fly: メンチカツ\n",
      "fly: 里芋コロッケ\n",
      "fly: さつまいもコロッケ\n",
      "pot: おでん\n",
      "pot: もつ鍋\n",
      "pot: 豆乳鍋\n",
      "pot: しゃぶしゃぶ\n",
      "pot: 水炊き\n",
      "japanese_fly: お好み焼き\n",
      "japanese_fly: チヂミ\n",
      "japanese_fly: たこ焼き\n",
      "japanese_fly: 広島風お好み焼き\n",
      "japanese_fly: 関西風お好み焼き\n",
      "boal: おから\n",
      "boal: 豆腐\n",
      "boal: オムレツ\n",
      "boal: 豆腐ハンバーグ\n",
      "side_food: ひじき\n",
      "side_food: わかめ\n",
      "side_food: 春雨\n",
      "side_food: きくらげ\n",
      "side_food: こんにゃく\n"
     ]
    }
   ],
   "source": [
    "for key, value in d.items():\n",
    "    for v in value:\n",
    "        print('{}: {}'.format(key, v))\n"
   ]
  },
  {
   "cell_type": "code",
   "execution_count": null,
   "metadata": {},
   "outputs": [],
   "source": []
  }
 ],
 "metadata": {
  "kernelspec": {
   "display_name": "Python 3",
   "language": "python",
   "name": "python3"
  },
  "language_info": {
   "codemirror_mode": {
    "name": "ipython",
    "version": 3
   },
   "file_extension": ".py",
   "mimetype": "text/x-python",
   "name": "python",
   "nbconvert_exporter": "python",
   "pygments_lexer": "ipython3",
   "version": "3.6.5"
  }
 },
 "nbformat": 4,
 "nbformat_minor": 2
}
