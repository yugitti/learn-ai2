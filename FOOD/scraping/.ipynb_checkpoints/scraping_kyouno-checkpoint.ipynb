{
 "cells": [
  {
   "cell_type": "code",
   "execution_count": 1,
   "metadata": {},
   "outputs": [],
   "source": [
    "from bs4 import BeautifulSoup\n",
    "import requests\n",
    "import pandas as pd\n",
    "import os\n",
    "import urllib\n",
    "proxies = {\n",
    "  'http': 'http://proxy-sen.noc.sony.co.jp:10080',\n",
    "  'https': 'proxy-sen.noc.sony.co.jp:10080',\n",
    "}"
   ]
  },
  {
   "cell_type": "code",
   "execution_count": 45,
   "metadata": {},
   "outputs": [],
   "source": [
    "url = \"http://www.kikkoman.co.jp/homecook/search/recipe/00001628/index.html\""
   ]
  },
  {
   "cell_type": "code",
   "execution_count": 6,
   "metadata": {},
   "outputs": [],
   "source": [
    "res = requests.get(url, proxies=proxies)\n",
    "# res = requests.get(url)\n",
    "sp = BeautifulSoup(res.content, \"html.parser\")"
   ]
  },
  {
   "cell_type": "code",
   "execution_count": 29,
   "metadata": {},
   "outputs": [
    {
     "name": "stdout",
     "output_type": "stream",
     "text": [
      "300kcal\n"
     ]
    }
   ],
   "source": [
    "nutrion = sp.find_all('b', class_='nutrition')\n",
    "print(nutrion[0].text)"
   ]
  },
  {
   "cell_type": "code",
   "execution_count": 8,
   "metadata": {},
   "outputs": [
    {
     "name": "stdout",
     "output_type": "stream",
     "text": [
      "2.1g\n"
     ]
    }
   ],
   "source": [
    "salt = sp.find_all('dl', attrs={'data-label': 'salt'})\n",
    "print(salt[0].find(\"dd\").text)"
   ]
  },
  {
   "cell_type": "code",
   "execution_count": 9,
   "metadata": {},
   "outputs": [
    {
     "name": "stdout",
     "output_type": "stream",
     "text": [
      "/homecook/search/recipe/img/00001628.jpg\n"
     ]
    }
   ],
   "source": [
    "img = sp.find_all('img', attrs={'id': 'recipe_image'})\n",
    "print(img[0]['src'])"
   ]
  },
  {
   "cell_type": "code",
   "execution_count": 16,
   "metadata": {},
   "outputs": [
    {
     "name": "stdout",
     "output_type": "stream",
     "text": [
      "ごぼうのグラタン\n"
     ]
    }
   ],
   "source": [
    "temp = sp.find_all('span', attrs={'itemprop': 'headline'})\n",
    "print(temp[0].text)"
   ]
  },
  {
   "cell_type": "code",
   "execution_count": 2,
   "metadata": {},
   "outputs": [],
   "source": [
    "url_root = 'https://www.kyounoryouri.jp/search/recipe?keyword={}&pg='.format('カレー')"
   ]
  },
  {
   "cell_type": "code",
   "execution_count": 22,
   "metadata": {},
   "outputs": [],
   "source": [
    "search_result = []\n",
    "for i in range(1):\n",
    "    result = []\n",
    "    url = url_root + str(i+1)\n",
    "    res =requests.get(url, proxies=proxies)\n",
    "    sp = BeautifulSoup(res.content, 'html.parser')\n",
    "    div = sp.find_all('div', class_='mk-tab-contents')\n",
    "    li_tag = div[0].find_all('li')\n",
    "    for li in li_tag:\n",
    "        a_tag = li.findChild('a')\n",
    "        if a_tag is not None:\n",
    "            a = a_tag.attrs.get('href')\n",
    "            if 'detail' in a :\n",
    "                result.append(a)\n",
    "    result = list(set(result))\n",
    "    search_result += result"
   ]
  },
  {
   "cell_type": "code",
   "execution_count": 4,
   "metadata": {},
   "outputs": [],
   "source": [
    "result = []\n",
    "url = url_root + str(1)\n",
    "res =requests.get(url, proxies=proxies)\n",
    "sp = BeautifulSoup(res.content, 'html.parser')\n",
    "div = sp.find_all('div', class_='mk-tab-contents')"
   ]
  },
  {
   "cell_type": "code",
   "execution_count": null,
   "metadata": {},
   "outputs": [],
   "source": []
  },
  {
   "cell_type": "code",
   "execution_count": 18,
   "metadata": {},
   "outputs": [
    {
     "data": {
      "text/plain": [
       "'2 HELLO'"
      ]
     },
     "execution_count": 18,
     "metadata": {},
     "output_type": "execute_result"
    }
   ],
   "source": [
    "test.format(2)"
   ]
  },
  {
   "cell_type": "code",
   "execution_count": 23,
   "metadata": {},
   "outputs": [
    {
     "data": {
      "text/plain": [
       "103"
      ]
     },
     "execution_count": 23,
     "metadata": {},
     "output_type": "execute_result"
    }
   ],
   "source": [
    "len(search_result)"
   ]
  },
  {
   "cell_type": "code",
   "execution_count": 24,
   "metadata": {},
   "outputs": [
    {
     "data": {
      "text/plain": [
       "['/homecook/search/recipe/00006292/index.html',\n",
       " '/homecook/search/recipe/00000046/index.html',\n",
       " '/homecook/search/recipe/00004337/index.html',\n",
       " '/homecook/search/recipe/00003513/index.html',\n",
       " '/homecook/search/recipe/00002651/index.html',\n",
       " '/homecook/search/recipe/00000856/index.html',\n",
       " '/homecook/search/recipe/00006241/index.html',\n",
       " '/homecook/search/recipe/00003589/index.html',\n",
       " '/homecook/search/recipe/00003600/index.html',\n",
       " '/homecook/search/recipe/00003571/index.html',\n",
       " '/homecook/search/recipe/00003846/index.html',\n",
       " '/homecook/search/recipe/00003661/index.html',\n",
       " '/homecook/search/recipe/00002018/index.html',\n",
       " '/homecook/search/recipe/00003669/index.html',\n",
       " '/homecook/search/recipe/00000659/index.html',\n",
       " '/homecook/search/recipe/00003536/index.html',\n",
       " '/homecook/search/recipe/00002415/index.html',\n",
       " '/homecook/search/recipe/00005864/index.html',\n",
       " '/homecook/search/recipe/00004973/index.html',\n",
       " '/homecook/search/recipe/00004967/index.html',\n",
       " '/homecook/search/recipe/00001523/index.html',\n",
       " '/homecook/search/recipe/00000163/index.html',\n",
       " '/homecook/search/recipe/00000960/index.html',\n",
       " '/homecook/search/recipe/00002890/index.html',\n",
       " '/homecook/search/recipe/00002529/index.html',\n",
       " '/homecook/search/recipe/00002507/index.html',\n",
       " '/homecook/search/recipe/00001887/index.html',\n",
       " '/homecook/search/recipe/00000402/index.html',\n",
       " '/homecook/search/recipe/00001031/index.html',\n",
       " '/homecook/search/recipe/00000307/index.html',\n",
       " '/homecook/search/recipe/00003122/index.html',\n",
       " '/homecook/search/recipe/00001014/index.html',\n",
       " '/homecook/search/recipe/00002564/index.html',\n",
       " '/homecook/search/recipe/00003165/index.html',\n",
       " '/homecook/search/recipe/00002151/index.html',\n",
       " '/homecook/search/recipe/00002747/index.html',\n",
       " '/homecook/search/recipe/00000613/index.html',\n",
       " '/homecook/search/recipe/00000855/index.html',\n",
       " '/homecook/search/recipe/00003103/index.html',\n",
       " '/homecook/search/recipe/00002967/index.html',\n",
       " '/homecook/search/recipe/00001665/index.html',\n",
       " '/homecook/search/recipe/00001210/index.html',\n",
       " '/homecook/search/recipe/00004445/index.html',\n",
       " '/homecook/search/recipe/00001209/index.html',\n",
       " '/homecook/search/recipe/00003296/index.html',\n",
       " '/homecook/search/recipe/00000906/index.html',\n",
       " '/homecook/search/recipe/00000299/index.html',\n",
       " '/homecook/search/recipe/00002433/index.html',\n",
       " '/homecook/search/recipe/00002402/index.html',\n",
       " '/homecook/search/recipe/00001244/index.html',\n",
       " '/homecook/search/recipe/00000004/index.html',\n",
       " '/homecook/search/recipe/00000119/index.html',\n",
       " '/homecook/search/recipe/00002931/index.html',\n",
       " '/homecook/search/recipe/00001629/index.html',\n",
       " '/homecook/search/recipe/00000395/index.html',\n",
       " '/homecook/search/recipe/00001745/index.html',\n",
       " '/homecook/search/recipe/00002301/index.html',\n",
       " '/homecook/search/recipe/00001575/index.html',\n",
       " '/homecook/search/recipe/00001543/index.html',\n",
       " '/homecook/search/recipe/00001635/index.html',\n",
       " '/homecook/search/recipe/00003388/index.html',\n",
       " '/homecook/search/recipe/00006070/index.html',\n",
       " '/homecook/search/recipe/00001845/index.html',\n",
       " '/homecook/search/recipe/00003481/index.html',\n",
       " '/homecook/search/recipe/00004095/index.html',\n",
       " '/homecook/search/recipe/00005384/index.html',\n",
       " '/homecook/search/recipe/00006648/index.html',\n",
       " '/homecook/search/recipe/00003799/index.html',\n",
       " '/homecook/search/recipe/00004930/index.html',\n",
       " '/homecook/search/recipe/00005826/index.html',\n",
       " '/homecook/search/recipe/00004813/index.html',\n",
       " '/homecook/search/recipe/00005487/index.html',\n",
       " '/homecook/search/recipe/00001200/index.html',\n",
       " '/homecook/search/recipe/00003746/index.html',\n",
       " '/homecook/search/recipe/00000146/index.html',\n",
       " '/homecook/search/recipe/00004091/index.html',\n",
       " '/homecook/search/recipe/00005315/index.html',\n",
       " '/homecook/search/recipe/00004125/index.html',\n",
       " '/homecook/search/recipe/00006073/index.html',\n",
       " '/homecook/search/recipe/00005426/index.html',\n",
       " '/homecook/search/recipe/00005359/index.html',\n",
       " '/homecook/search/recipe/00004138/index.html',\n",
       " '/homecook/search/recipe/00004774/index.html',\n",
       " '/homecook/search/recipe/00004066/index.html',\n",
       " '/homecook/search/recipe/00003132/index.html',\n",
       " '/homecook/search/recipe/00003568/index.html',\n",
       " '/homecook/search/recipe/00004771/index.html',\n",
       " '/homecook/search/recipe/00005238/index.html',\n",
       " '/homecook/search/recipe/00004170/index.html',\n",
       " '/homecook/search/recipe/00004515/index.html',\n",
       " '/homecook/search/recipe/00004615/index.html',\n",
       " '/homecook/search/recipe/00003483/index.html',\n",
       " '/homecook/search/recipe/00003414/index.html',\n",
       " '/homecook/search/recipe/00004092/index.html',\n",
       " '/homecook/search/recipe/00004560/index.html',\n",
       " '/homecook/search/recipe/00004141/index.html',\n",
       " '/homecook/search/recipe/00003983/index.html',\n",
       " '/homecook/search/recipe/00003152/index.html',\n",
       " '/homecook/search/recipe/00005068/index.html',\n",
       " '/homecook/search/recipe/00004167/index.html',\n",
       " '/homecook/search/recipe/00003485/index.html',\n",
       " '/homecook/search/recipe/00004442/index.html',\n",
       " '/homecook/search/recipe/00005237/index.html']"
      ]
     },
     "execution_count": 24,
     "metadata": {},
     "output_type": "execute_result"
    }
   ],
   "source": [
    "search_result"
   ]
  },
  {
   "cell_type": "code",
   "execution_count": 19,
   "metadata": {},
   "outputs": [],
   "source": [
    "temp = ''"
   ]
  },
  {
   "cell_type": "code",
   "execution_count": 22,
   "metadata": {},
   "outputs": [
    {
     "name": "stdout",
     "output_type": "stream",
     "text": [
      "None\n"
     ]
    }
   ],
   "source": [
    "if temp is '':\n",
    "    print('None')"
   ]
  },
  {
   "cell_type": "code",
   "execution_count": 30,
   "metadata": {},
   "outputs": [],
   "source": [
    "temp = sp.find_all('span', attrs={'itemprop': 'headline'})\n"
   ]
  },
  {
   "cell_type": "code",
   "execution_count": 32,
   "metadata": {},
   "outputs": [
    {
     "name": "stdout",
     "output_type": "stream",
     "text": [
      "empty\n"
     ]
    }
   ],
   "source": [
    "if temp:\n",
    "    print('empty')"
   ]
  },
  {
   "cell_type": "code",
   "execution_count": null,
   "metadata": {},
   "outputs": [],
   "source": [
    "print(temp[0].text)"
   ]
  },
  {
   "cell_type": "code",
   "execution_count": 55,
   "metadata": {},
   "outputs": [],
   "source": [
    "a = ['A', 'B', 'C', 'Z']\n",
    "b = ['D', 'E', 'F', 'X']\n",
    "c = ['G', 'H', 'I', 'Y']"
   ]
  },
  {
   "cell_type": "code",
   "execution_count": 58,
   "metadata": {},
   "outputs": [
    {
     "data": {
      "text/plain": [
       "[['A', 'B', 'C', 'Z'], ['D', 'E', 'F', 'X'], ['G', 'H', 'I', 'Y']]"
      ]
     },
     "execution_count": 58,
     "metadata": {},
     "output_type": "execute_result"
    }
   ],
   "source": [
    "[a, b, c]"
   ]
  },
  {
   "cell_type": "code",
   "execution_count": 59,
   "metadata": {},
   "outputs": [],
   "source": [
    "df = pd.DataFrame({'a': a, 'b': b, 'c': c})"
   ]
  },
  {
   "cell_type": "code",
   "execution_count": 60,
   "metadata": {},
   "outputs": [
    {
     "data": {
      "text/html": [
       "<div>\n",
       "<style scoped>\n",
       "    .dataframe tbody tr th:only-of-type {\n",
       "        vertical-align: middle;\n",
       "    }\n",
       "\n",
       "    .dataframe tbody tr th {\n",
       "        vertical-align: top;\n",
       "    }\n",
       "\n",
       "    .dataframe thead th {\n",
       "        text-align: right;\n",
       "    }\n",
       "</style>\n",
       "<table border=\"1\" class=\"dataframe\">\n",
       "  <thead>\n",
       "    <tr style=\"text-align: right;\">\n",
       "      <th></th>\n",
       "      <th>a</th>\n",
       "      <th>b</th>\n",
       "      <th>c</th>\n",
       "    </tr>\n",
       "  </thead>\n",
       "  <tbody>\n",
       "    <tr>\n",
       "      <th>0</th>\n",
       "      <td>A</td>\n",
       "      <td>D</td>\n",
       "      <td>G</td>\n",
       "    </tr>\n",
       "    <tr>\n",
       "      <th>1</th>\n",
       "      <td>B</td>\n",
       "      <td>E</td>\n",
       "      <td>H</td>\n",
       "    </tr>\n",
       "    <tr>\n",
       "      <th>2</th>\n",
       "      <td>C</td>\n",
       "      <td>F</td>\n",
       "      <td>I</td>\n",
       "    </tr>\n",
       "    <tr>\n",
       "      <th>3</th>\n",
       "      <td>Z</td>\n",
       "      <td>X</td>\n",
       "      <td>Y</td>\n",
       "    </tr>\n",
       "  </tbody>\n",
       "</table>\n",
       "</div>"
      ],
      "text/plain": [
       "   a  b  c\n",
       "0  A  D  G\n",
       "1  B  E  H\n",
       "2  C  F  I\n",
       "3  Z  X  Y"
      ]
     },
     "execution_count": 60,
     "metadata": {},
     "output_type": "execute_result"
    }
   ],
   "source": [
    "df"
   ]
  },
  {
   "cell_type": "code",
   "execution_count": 41,
   "metadata": {},
   "outputs": [
    {
     "ename": "TypeError",
     "evalue": "to_csv() got an unexpected keyword argument 'delimiter'",
     "output_type": "error",
     "traceback": [
      "\u001b[1;31m---------------------------------------------------------------------------\u001b[0m",
      "\u001b[1;31mTypeError\u001b[0m                                 Traceback (most recent call last)",
      "\u001b[1;32m<ipython-input-41-b696bba6eaf7>\u001b[0m in \u001b[0;36m<module>\u001b[1;34m()\u001b[0m\n\u001b[1;32m----> 1\u001b[1;33m \u001b[0mdf\u001b[0m\u001b[1;33m.\u001b[0m\u001b[0mto_csv\u001b[0m\u001b[1;33m(\u001b[0m\u001b[1;34m'test.csv'\u001b[0m\u001b[1;33m,\u001b[0m \u001b[0mdf\u001b[0m\u001b[1;33m,\u001b[0m \u001b[0mdelimiter\u001b[0m\u001b[1;33m=\u001b[0m\u001b[1;34m','\u001b[0m\u001b[1;33m)\u001b[0m\u001b[1;33m\u001b[0m\u001b[0m\n\u001b[0m",
      "\u001b[1;31mTypeError\u001b[0m: to_csv() got an unexpected keyword argument 'delimiter'"
     ]
    }
   ],
   "source": [
    "df.to_csv('test.csv', df,)"
   ]
  },
  {
   "cell_type": "code",
   "execution_count": 43,
   "metadata": {},
   "outputs": [
    {
     "name": "stdout",
     "output_type": "stream",
     "text": [
      "HELLO\n"
     ]
    }
   ],
   "source": [
    "aaa = 'HELLO'\n",
    "def test():\n",
    "    print(aaa)\n",
    "\n",
    "test()"
   ]
  },
  {
   "cell_type": "code",
   "execution_count": 50,
   "metadata": {},
   "outputs": [],
   "source": [
    "root = 'http://www.kikkoman.co.jp/'\n",
    "test = '/homecook/search/recipe/00000046/index.html'"
   ]
  },
  {
   "cell_type": "code",
   "execution_count": 54,
   "metadata": {},
   "outputs": [
    {
     "data": {
      "text/plain": [
       "'http://www.kikkoman.co.jp/homecook/search/recipe/00000046/index.html'"
      ]
     },
     "execution_count": 54,
     "metadata": {},
     "output_type": "execute_result"
    }
   ],
   "source": [
    "urllib.parse.urljoin(root, test)"
   ]
  },
  {
   "cell_type": "code",
   "execution_count": 62,
   "metadata": {},
   "outputs": [],
   "source": [
    "d ={\n",
    "    'meat': ['豚肉', '鶏肉', '鶏むね肉', '豚バラ肉', '豚の角煮', '鶏ささみ', '牛肉', '鶏もも肉'],\n",
    "    'Vegetables': ['白菜', '里芋', '小松菜', 'れんこん', 'ほうれん草', 'かぼちゃ'],\n",
    "    'fish': ['さんま', 'さば', '牡蠣', '鮭・サーモン', 'さわら'],\n",
    "    'rice': ['カレー', 'おにぎり', '雑炊・おじや', 'オムライス', 'ドリア'],\n",
    "    'pasta': ['カルボナーラ', 'グラタン', 'マカロニグラタン', 'ミートソース', '明太子・たらこスパ'],\n",
    "    'noodle': ['うどん', 'カレーうどん', '煮込みうどん', '焼きうどん', 'にゅうめん', '焼きそば'],\n",
    "    'soup': ['ビーフシチュー', 'クリームシチュー', 'シチュー', '中華スープ', 'けんちん汁'],\n",
    "    'salad': ['生春巻き', '和風のサラダ', 'ポテトサラダ', 'かぼちゃのサラダ', '洋風のサラダ'],\n",
    "    'fly': ['ポテトコロッケ', 'かぼちゃコロッケ', 'メンチカツ', '里芋コロッケ', 'さつまいもコロッケ'],\n",
    "    'pot': ['おでん', 'もつ鍋', '豆乳鍋', 'しゃぶしゃぶ', '水炊き'],\n",
    "    'japanese_fly': ['お好み焼き', 'チヂミ', 'たこ焼き', '広島風お好み焼き', '関西風お好み焼き'],\n",
    "    'boal': ['おから', '豆腐', 'オムレツ', '豆腐ハンバーグ'],\n",
    "    'side_food': ['ひじき', 'わかめ', '春雨', 'きくらげ', 'こんにゃく']\n",
    "}"
   ]
  },
  {
   "cell_type": "code",
   "execution_count": 64,
   "metadata": {},
   "outputs": [
    {
     "name": "stdout",
     "output_type": "stream",
     "text": [
      "meat: 豚肉\n",
      "meat: 鶏肉\n",
      "meat: 鶏むね肉\n",
      "meat: 豚バラ肉\n",
      "meat: 豚の角煮\n",
      "meat: 鶏ささみ\n",
      "meat: 牛肉\n",
      "meat: 鶏もも肉\n",
      "Vegetables: 白菜\n",
      "Vegetables: 里芋\n",
      "Vegetables: 小松菜\n",
      "Vegetables: れんこん\n",
      "Vegetables: ほうれん草\n",
      "Vegetables: かぼちゃ\n",
      "fish: さんま\n",
      "fish: さば\n",
      "fish: 牡蠣\n",
      "fish: 鮭・サーモン\n",
      "fish: さわら\n",
      "rice: カレー\n",
      "rice: おにぎり\n",
      "rice: 雑炊・おじや\n",
      "rice: オムライス\n",
      "rice: ドリア\n",
      "pasta: カルボナーラ\n",
      "pasta: グラタン\n",
      "pasta: マカロニグラタン\n",
      "pasta: ミートソース\n",
      "pasta: 明太子・たらこスパ\n",
      "noodle: うどん\n",
      "noodle: カレーうどん\n",
      "noodle: 煮込みうどん\n",
      "noodle: 焼きうどん\n",
      "noodle: にゅうめん\n",
      "noodle: 焼きそば\n",
      "soup: ビーフシチュー\n",
      "soup: クリームシチュー\n",
      "soup: シチュー\n",
      "soup: 中華スープ\n",
      "soup: けんちん汁\n",
      "salad: 生春巻き\n",
      "salad: 和風のサラダ\n",
      "salad: ポテトサラダ\n",
      "salad: かぼちゃのサラダ\n",
      "salad: 洋風のサラダ\n",
      "fly: ポテトコロッケ\n",
      "fly: かぼちゃコロッケ\n",
      "fly: メンチカツ\n",
      "fly: 里芋コロッケ\n",
      "fly: さつまいもコロッケ\n",
      "pot: おでん\n",
      "pot: もつ鍋\n",
      "pot: 豆乳鍋\n",
      "pot: しゃぶしゃぶ\n",
      "pot: 水炊き\n",
      "japanese_fly: お好み焼き\n",
      "japanese_fly: チヂミ\n",
      "japanese_fly: たこ焼き\n",
      "japanese_fly: 広島風お好み焼き\n",
      "japanese_fly: 関西風お好み焼き\n",
      "boal: おから\n",
      "boal: 豆腐\n",
      "boal: オムレツ\n",
      "boal: 豆腐ハンバーグ\n",
      "side_food: ひじき\n",
      "side_food: わかめ\n",
      "side_food: 春雨\n",
      "side_food: きくらげ\n",
      "side_food: こんにゃく\n"
     ]
    }
   ],
   "source": [
    "for key, value in d.items():\n",
    "    for v in value:\n",
    "        print('{}: {}'.format(key, v))\n"
   ]
  },
  {
   "cell_type": "code",
   "execution_count": null,
   "metadata": {},
   "outputs": [],
   "source": []
  }
 ],
 "metadata": {
  "kernelspec": {
   "display_name": "Python 3",
   "language": "python",
   "name": "python3"
  },
  "language_info": {
   "codemirror_mode": {
    "name": "ipython",
    "version": 3
   },
   "file_extension": ".py",
   "mimetype": "text/x-python",
   "name": "python",
   "nbconvert_exporter": "python",
   "pygments_lexer": "ipython3",
   "version": "3.6.5"
  }
 },
 "nbformat": 4,
 "nbformat_minor": 2
}
