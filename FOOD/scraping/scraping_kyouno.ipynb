{
 "cells": [
  {
   "cell_type": "code",
   "execution_count": 70,
   "metadata": {},
   "outputs": [],
   "source": [
    "from bs4 import BeautifulSoup\n",
    "import requests\n",
    "import pandas as pd\n",
    "import os\n",
    "import urllib\n",
    "import re\n",
    "proxies = {\n",
    "  'http': 'http://proxy-sen.noc.sony.co.jp:10080',\n",
    "  'https': 'proxy-sen.noc.sony.co.jp:10080',\n",
    "}"
   ]
  },
  {
   "cell_type": "code",
   "execution_count": 207,
   "metadata": {},
   "outputs": [],
   "source": [
    "url = \"https://www.kyounoryouri.jp/recipe/43023_%E3%82%8C%E3%82%93%E3%81%93%E3%82%93%E3%81%AE%E9%BB%92%E9%85%A2%E9%85%A2%E8%B1%9A.html\""
   ]
  },
  {
   "cell_type": "code",
   "execution_count": 208,
   "metadata": {},
   "outputs": [],
   "source": [
    "res = requests.get(url, proxies=proxies)\n",
    "# res = requests.get(url)\n",
    "sp = BeautifulSoup(res.content, \"html.parser\")"
   ]
  },
  {
   "cell_type": "code",
   "execution_count": 188,
   "metadata": {},
   "outputs": [
    {
     "name": "stdout",
     "output_type": "stream",
     "text": [
      "540 kcal\n"
     ]
    }
   ],
   "source": [
    "nutrion = sp.find_all('div', class_='recipe')\n",
    "for n in nutrion:\n",
    "    result = re.search(r'([0-9].*cal)', n.text)\n",
    "    if result:\n",
    "        print(result.group())\n"
   ]
  },
  {
   "cell_type": "code",
   "execution_count": 191,
   "metadata": {},
   "outputs": [
    {
     "name": "stdout",
     "output_type": "stream",
     "text": [
      "2.80 g\n"
     ]
    }
   ],
   "source": [
    "salt = sp.find_all('div', class_='recipe')\n",
    "for n in salt:\n",
    "    result = re.search(r'([0-9].*g)', n.text)\n",
    "    if result:\n",
    "        print(result.group())"
   ]
  },
  {
   "cell_type": "code",
   "execution_count": 219,
   "metadata": {},
   "outputs": [],
   "source": [
    "div_img = sp.find_all('div', class_='recipe--detail-main')\n",
    "img = urllib.parse.urljoin(url_root, div_img[0].find_all('img')[0]['src'])"
   ]
  },
  {
   "cell_type": "code",
   "execution_count": 220,
   "metadata": {},
   "outputs": [
    {
     "data": {
      "text/plain": [
       "'https://www.kyounoryouri.jp/upfile/new_xl_1536896332_6439.jpg'"
      ]
     },
     "execution_count": 220,
     "metadata": {},
     "output_type": "execute_result"
    }
   ],
   "source": [
    "img"
   ]
  },
  {
   "cell_type": "code",
   "execution_count": 240,
   "metadata": {},
   "outputs": [
    {
     "name": "stdout",
     "output_type": "stream",
     "text": [
      "れんこんの黒酢酢豚\n"
     ]
    }
   ],
   "source": [
    "title = sp.find_all('h1', class_='ttl')\n",
    "r = re.search(r'\\S*', title[0].contents[-1])\n",
    "print(r.group())"
   ]
  },
  {
   "cell_type": "code",
   "execution_count": 221,
   "metadata": {},
   "outputs": [],
   "source": [
    "test = title[0].contents[-1]"
   ]
  },
  {
   "cell_type": "code",
   "execution_count": 236,
   "metadata": {},
   "outputs": [
    {
     "name": "stdout",
     "output_type": "stream",
     "text": [
      "れんこんの黒酢酢豚\t\t\t\t\t\t\t\t\n",
      "<_sre.SRE_Match object; span=(0, 9), match='れんこんの黒酢酢豚'>\n"
     ]
    }
   ],
   "source": [
    "print(test)\n",
    "re_test = r'\\S*'\n",
    "print(re.search(r'\\S*', test))\n"
   ]
  },
  {
   "cell_type": "code",
   "execution_count": 192,
   "metadata": {},
   "outputs": [],
   "source": [
    "url_root = 'https://www.kyounoryouri.jp/search/recipe?keyword={}&pg='.format('カレー')"
   ]
  },
  {
   "cell_type": "code",
   "execution_count": 197,
   "metadata": {},
   "outputs": [],
   "source": [
    "search_result = []\n",
    "for i in range(1):\n",
    "    result = []\n",
    "    url = url_root + str(i+1)\n",
    "    res =requests.get(url, proxies=proxies)\n",
    "    sp = BeautifulSoup(res.content, 'html.parser')\n",
    "    div = sp.find_all('div', class_='mk-tab-contents')\n",
    "    div_child = div[0].find_all('div', class_='recipe--category-recipe')\n",
    "    \n",
    "    for div_c in div_child:\n",
    "        result.append(urllib.parse.urljoin(url_root, div_c.attrs['data-url']))\n",
    "\n",
    "    result = list(set(result))\n",
    "    search_result += result"
   ]
  },
  {
   "cell_type": "code",
   "execution_count": 198,
   "metadata": {},
   "outputs": [
    {
     "data": {
      "text/plain": [
       "['https://www.kyounoryouri.jp/recipe/42513_ナイル家のチキンカレー.html',\n",
       " 'https://www.kyounoryouri.jp/recipe/31686_ドライカレー.html',\n",
       " 'https://www.kyounoryouri.jp/recipe/43023_れんこんの黒酢酢豚.html',\n",
       " 'https://www.kyounoryouri.jp/recipe/31702_さんまのカレー塩焼き.html',\n",
       " 'https://www.kyounoryouri.jp/recipe/41929_れんこんのカレーきんぴら.html',\n",
       " 'https://www.kyounoryouri.jp/recipe/31757_ポテトチップス.html',\n",
       " 'https://www.kyounoryouri.jp/recipe/42100_冬のドライカレー.html',\n",
       " 'https://www.kyounoryouri.jp/recipe/42910_ヨーグルトチキンカレー.html',\n",
       " 'https://www.kyounoryouri.jp/recipe/41998_なすニックグラタン.html',\n",
       " 'https://www.kyounoryouri.jp/recipe/42817_パクチーカレー.html',\n",
       " 'https://www.kyounoryouri.jp/recipe/31904_揚げないカレーコロッケ.html',\n",
       " 'https://www.kyounoryouri.jp/recipe/42207_小松菜のハンバーグ カレー風味.html',\n",
       " 'https://www.kyounoryouri.jp/recipe/31895_かじきのタンドリー風.html',\n",
       " 'https://www.kyounoryouri.jp/recipe/31728_カレーライス.html',\n",
       " 'https://www.kyounoryouri.jp/recipe/42531_バターチキンカレー.html',\n",
       " 'https://www.kyounoryouri.jp/recipe/42676_ひじきと大豆の和風カレー.html',\n",
       " 'https://www.kyounoryouri.jp/recipe/41904_鶏肉とトマトのオイスターカレー炒め.html',\n",
       " 'https://www.kyounoryouri.jp/recipe/31940_ラタトゥイユ風カレー.html',\n",
       " 'https://www.kyounoryouri.jp/recipe/3738_なすと鶏肉のドライカレー.html',\n",
       " 'https://www.kyounoryouri.jp/recipe/31693_焼き鶏スペアリブ.html']"
      ]
     },
     "execution_count": 198,
     "metadata": {},
     "output_type": "execute_result"
    }
   ],
   "source": [
    "search_result"
   ]
  },
  {
   "cell_type": "code",
   "execution_count": 242,
   "metadata": {},
   "outputs": [],
   "source": [
    "df = pd.read_csv('kyouno.csv')"
   ]
  },
  {
   "cell_type": "code",
   "execution_count": null,
   "metadata": {},
   "outputs": [],
   "source": []
  }
 ],
 "metadata": {
  "kernelspec": {
   "display_name": "Python 3",
   "language": "python",
   "name": "python3"
  },
  "language_info": {
   "codemirror_mode": {
    "name": "ipython",
    "version": 3
   },
   "file_extension": ".py",
   "mimetype": "text/x-python",
   "name": "python",
   "nbconvert_exporter": "python",
   "pygments_lexer": "ipython3",
   "version": "3.6.5"
  }
 },
 "nbformat": 4,
 "nbformat_minor": 2
}
