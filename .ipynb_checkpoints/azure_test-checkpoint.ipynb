{
 "cells": [
  {
   "cell_type": "code",
   "execution_count": 1,
   "metadata": {},
   "outputs": [],
   "source": [
    "import numpy as np\n",
    "import os\n",
    "import requests"
   ]
  },
  {
   "cell_type": "markdown",
   "metadata": {},
   "source": [
    "## Azure 画像解析APIの使用例"
   ]
  },
  {
   "cell_type": "code",
   "execution_count": 51,
   "metadata": {},
   "outputs": [],
   "source": [
    "subscription_key = \"b3d393a624cb4056818bc3bb5fe6f87d\"\n",
    "assert subscription_key"
   ]
  },
  {
   "cell_type": "code",
   "execution_count": 52,
   "metadata": {},
   "outputs": [],
   "source": [
    "## Azure の API登録した際に発行されたエンドポイントのURLに/vision/v1.0/を追加したもの\n",
    "vision_base_url = \"https://japaneast.api.cognitive.microsoft.com/vision/v1.0/\"\n",
    "## base url にサブドメイン analyzeを追加したもの\n",
    "vision_analyze_url = os.path.join(vision_base_url,'analyze')\n",
    "## 解析する画像のURL\n",
    "image_url = \"http://learn-ai.org/data/inst_ai/imgs/xIMG_3643.png\""
   ]
  },
  {
   "cell_type": "code",
   "execution_count": 53,
   "metadata": {},
   "outputs": [],
   "source": [
    "## httpsのヘッダーに記載する情報、ここでキーを指定する\n",
    "headers =  {'Ocp-Apim-Subscription-Key': subscription_key}\n",
    "## 解析・取得したい画像の情報、ここのパラメータを返ることで様々な解析情報が得られる\n",
    "params = {'visualFeatures': 'Categories,Description,Color', 'language': 'en'}\n",
    "## 解析対象の画像のURLをセット\n",
    "data = {'url': image_url}\n",
    "## httpのPOSTのbodyに上で指定した各パラメータをセットしPOSTする\n",
    "response = requests.post(vision_analyze_url,headers=headers, params=params, json=data)"
   ]
  },
  {
   "cell_type": "code",
   "execution_count": 54,
   "metadata": {},
   "outputs": [],
   "source": [
    "## requestに対するサーバーレスポンス, エラーならば401, 404,等が返される\n",
    "response.raise_for_status()"
   ]
  },
  {
   "cell_type": "code",
   "execution_count": 55,
   "metadata": {},
   "outputs": [],
   "source": [
    "## responseのbodyの中身をjson形式で取得\n",
    "analyze = response.json()"
   ]
  },
  {
   "cell_type": "code",
   "execution_count": 56,
   "metadata": {},
   "outputs": [],
   "source": [
    "## json の中身\n",
    "analyze_captions = analyze['description']['captions']"
   ]
  },
  {
   "cell_type": "code",
   "execution_count": 57,
   "metadata": {},
   "outputs": [],
   "source": [
    "confidence = analyze_captions[0]['confidence']\n",
    "text = analyze_captions[0]['text'].capitalize()\n",
    "key_word = analyze['description']['tags']"
   ]
  },
  {
   "cell_type": "code",
   "execution_count": 58,
   "metadata": {},
   "outputs": [
    {
     "name": "stdout",
     "output_type": "stream",
     "text": [
      "confidence: 0.9067545911690461\n",
      "text: A black cat lying on the ground\n",
      "keyword: ['black', 'outdoor', 'animal', 'cat', 'sitting', 'dog', 'laying', 'small', 'street', 'white', 'playing', 'bowl', 'large', 'ball', 'standing']\n"
     ]
    }
   ],
   "source": [
    "print('confidence: {}'.format(confidence))\n",
    "print('text: {}'.format(text))\n",
    "print('keyword: {}'.format(key_word))"
   ]
  },
  {
   "cell_type": "markdown",
   "metadata": {},
   "source": [
    "## Azure 形態素解析 LUIS の使用例"
   ]
  },
  {
   "cell_type": "code",
   "execution_count": 2,
   "metadata": {},
   "outputs": [],
   "source": [
    "from luis_sdk import LUISClient"
   ]
  },
  {
   "cell_type": "code",
   "execution_count": null,
   "metadata": {},
   "outputs": [],
   "source": []
  },
  {
   "cell_type": "code",
   "execution_count": null,
   "metadata": {},
   "outputs": [],
   "source": [
    "subscription_key = \"95c68061-4c62-4633-a147-c5d8773a6c31\"\n",
    "assert subscription_key"
   ]
  }
 ],
 "metadata": {
  "kernelspec": {
   "display_name": "Python 3",
   "language": "python",
   "name": "python3"
  },
  "language_info": {
   "codemirror_mode": {
    "name": "ipython",
    "version": 3
   },
   "file_extension": ".py",
   "mimetype": "text/x-python",
   "name": "python",
   "nbconvert_exporter": "python",
   "pygments_lexer": "ipython3",
   "version": "3.5.2"
  }
 },
 "nbformat": 4,
 "nbformat_minor": 2
}
