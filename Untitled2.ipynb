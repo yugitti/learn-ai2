{
 "cells": [
  {
   "cell_type": "code",
   "execution_count": 1,
   "metadata": {},
   "outputs": [],
   "source": [
    "import numpy as np"
   ]
  },
  {
   "cell_type": "code",
   "execution_count": 2,
   "metadata": {},
   "outputs": [],
   "source": [
    "A = np.array([[1,2],[3,4]])"
   ]
  },
  {
   "cell_type": "code",
   "execution_count": 3,
   "metadata": {},
   "outputs": [
    {
     "data": {
      "text/plain": [
       "(array([[-0.40455358, -0.9145143 ],\n",
       "        [-0.9145143 ,  0.40455358]]),\n",
       " array([5.4649857 , 0.36596619]),\n",
       " array([[-0.57604844, -0.81741556],\n",
       "        [ 0.81741556, -0.57604844]]))"
      ]
     },
     "execution_count": 3,
     "metadata": {},
     "output_type": "execute_result"
    }
   ],
   "source": [
    "np.linalg.svd(A)"
   ]
  },
  {
   "cell_type": "code",
   "execution_count": 9,
   "metadata": {},
   "outputs": [],
   "source": [
    "epsilon = 0.0001\n",
    "max_count = 1000"
   ]
  },
  {
   "cell_type": "code",
   "execution_count": 74,
   "metadata": {},
   "outputs": [],
   "source": [
    "x0 = np.array([0,1])\n",
    "x1 = np.array([0,1])\n",
    "u = 1.0*x0 + 2.0*x1\n",
    "uu = u1 = u\n",
    "l0 = 1\n",
    "l1 = 1\n",
    "d = 1\n",
    "count = 0"
   ]
  },
  {
   "cell_type": "code",
   "execution_count": 75,
   "metadata": {},
   "outputs": [
    {
     "name": "stdout",
     "output_type": "stream",
     "text": [
      "4.3999999999999995\n",
      "0.005580923389142607\n",
      "0.0004811188133212237\n",
      "3.28889098712622e-05\n"
     ]
    }
   ],
   "source": [
    "while d > epsilon and count < max_count:\n",
    "    uu = u / np.linalg.norm(u)\n",
    "    u1 = np.dot(A, uu)\n",
    "    l1 = np.dot(np.dot(u1.T, A), u1) / np.linalg.norm(u1)**2\n",
    "    d = np.abs(l1 - l0) / np.abs(l0)\n",
    "    print(d)\n",
    "    l0 = l1\n",
    "    u = u1\n",
    "    count += 1"
   ]
  },
  {
   "cell_type": "code",
   "execution_count": 76,
   "metadata": {},
   "outputs": [
    {
     "data": {
      "text/plain": [
       "5.372269861908915"
      ]
     },
     "execution_count": 76,
     "metadata": {},
     "output_type": "execute_result"
    }
   ],
   "source": [
    "l1"
   ]
  },
  {
   "cell_type": "code",
   "execution_count": 77,
   "metadata": {},
   "outputs": [
    {
     "data": {
      "text/plain": [
       "array([0.41612395, 0.9093079 ])"
      ]
     },
     "execution_count": 77,
     "metadata": {},
     "output_type": "execute_result"
    }
   ],
   "source": [
    "uu"
   ]
  },
  {
   "cell_type": "code",
   "execution_count": null,
   "metadata": {},
   "outputs": [],
   "source": []
  }
 ],
 "metadata": {
  "kernelspec": {
   "display_name": "Python 3",
   "language": "python",
   "name": "python3"
  },
  "language_info": {
   "codemirror_mode": {
    "name": "ipython",
    "version": 3
   },
   "file_extension": ".py",
   "mimetype": "text/x-python",
   "name": "python",
   "nbconvert_exporter": "python",
   "pygments_lexer": "ipython3",
   "version": "3.5.2"
  }
 },
 "nbformat": 4,
 "nbformat_minor": 2
}
