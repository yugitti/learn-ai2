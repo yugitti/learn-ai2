{
 "cells": [
  {
   "cell_type": "code",
   "execution_count": 6,
   "metadata": {},
   "outputs": [],
   "source": [
    "import torch\n",
    "import torch.nn as nn\n",
    "import torch.optim as optim\n",
    "from torch.utils.data import DataLoader\n",
    "from torchvision import datasets, transforms\n",
    "from torchvision.models import vgg16, vgg16_bn\n",
    "from torch.utils.data import Dataset\n",
    "import numpy as np\n",
    "from PIL import Image, ImageDraw\n",
    "import matplotlib.pyplot as plt\n",
    "import seaborn as sns\n",
    "import math\n",
    "import pandas as pd\n",
    "import sys\n",
    "import os\n",
    "from skimage import io\n",
    "import matplotlib.animation as animation\n",
    "from IPython.display import HTML\n",
    "\n",
    "custom_style = {'axes.labelcolor': 'white'}\n",
    "sns.set_style(\"dark\", rc=custom_style)\n",
    "sns.set_context(\"notebook\")\n",
    "plt.style.use('dark_background')\n",
    "plt.rcParams[\"font.size\"] = 18\n",
    "%matplotlib inline"
   ]
  },
  {
   "cell_type": "code",
   "execution_count": 7,
   "metadata": {},
   "outputs": [
    {
     "name": "stdout",
     "output_type": "stream",
     "text": [
      "180303-gan.ipynb             logger.py\r\n",
      "check_result.ipynb           main_dcgan_f.py\r\n",
      "dataset.py                   main_dcgan_mb_f.py\r\n",
      "DCGAN-improved-Copy1.ipynb   main_dcgan.py\r\n",
      "DCGAN-improved-Copy2.ipynb   main_dcgan_semi_learn.py\r\n",
      "DCGAN-improved.ipynb         net.py\r\n",
      "DCGAN.ipynb                  \u001b[0m\u001b[01;34m__pycache__\u001b[0m/\r\n",
      "dcgan_semi.out               \u001b[01;34mresult\u001b[0m/\r\n",
      "errorD_minibach_feature.npy  run.py\r\n",
      "errorG_minibach_feature.npy  vat.py\r\n",
      "img_minibach_feature.npy\r\n"
     ]
    }
   ],
   "source": [
    "%ls"
   ]
  },
  {
   "cell_type": "code",
   "execution_count": 8,
   "metadata": {},
   "outputs": [],
   "source": [
    "img = np.load('./img_minibach_feature.npy')"
   ]
  },
  {
   "cell_type": "code",
   "execution_count": null,
   "metadata": {},
   "outputs": [
    {
     "name": "stderr",
     "output_type": "stream",
     "text": [
      "/usr/local/lib/python3.5/dist-packages/matplotlib/animation.py:973: UserWarning: Animation size has reached 21199089 bytes, exceeding the limit of 20971520.0. If you're sure you want a larger animation embedded, set the animation.embed_limit rc parameter to a larger value (in MB). This and further frames will be dropped.\n",
      "  \" will be dropped.\".format(self))\n"
     ]
    }
   ],
   "source": [
    "fig = plt.figure(figsize = (8,8))\n",
    "plt.axis('off')\n",
    "# ims = [[plt.imshow(np.transpose(i, (1,2,0)), animated=True)] for i in img_list2]\n",
    "ims = [[plt.imshow(i, animated=True)] for i in img]\n",
    "ani = animation.ArtistAnimation(fig, ims, interval=1000, repeat_delay=1000, blit=True)\n",
    "HTML(ani.to_jshtml())"
   ]
  },
  {
   "cell_type": "code",
   "execution_count": null,
   "metadata": {},
   "outputs": [],
   "source": []
  }
 ],
 "metadata": {
  "kernelspec": {
   "display_name": "Python 3",
   "language": "python",
   "name": "python3"
  },
  "language_info": {
   "codemirror_mode": {
    "name": "ipython",
    "version": 3
   },
   "file_extension": ".py",
   "mimetype": "text/x-python",
   "name": "python",
   "nbconvert_exporter": "python",
   "pygments_lexer": "ipython3",
   "version": "3.5.2"
  }
 },
 "nbformat": 4,
 "nbformat_minor": 2
}
